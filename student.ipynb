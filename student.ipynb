{
 "cells": [
  {
   "cell_type": "markdown",
   "metadata": {},
   "source": [
    "## Final Project Submission\n",
    "\n",
    "Please fill out:\n",
    "* Student name: Maria Kuzmin\n",
    "* Student pace: self paced\n",
    "* Scheduled project review date/time: \n",
    "* Instructor name: Morgan Jones\n",
    "* Blog post URL: tbd\n"
   ]
  },
  {
   "cell_type": "markdown",
   "metadata": {},
   "source": [
    "## Don't Roam Buy a Home"
   ]
  },
  {
   "cell_type": "markdown",
   "metadata": {},
   "source": [
    "The real estate startup “Don’t Roam Buy a Home” (DRBH for short) has contacted us as they are trying to create an app targeted at those who do not feel like they can compete in the current brutal real estate market. DRBH’s application is meant for the normal average person that does not have much knowledge about the real estate market but is trying to understand what would be the best investment given their resources and their needs.\n",
    "\n",
    "In our business case, DRBH has hired us in order to assist with analyzing raw real estate data and breaking down the trends of the housing market in King County. Their end product centers around having users enter the desired number of bedrooms, bathrooms, the overall residence’s square feet or lot size as well as neighborhood, budget in terms of savings and possible monthly mortgage. With this information the app will provide the user key information to help make the most educated choice and have the most profitable investment with the available funds.\n",
    "\n",
    "Don't Roam Buy a Home will help users answer some questions like: \n",
    "- what is the best neighborhood for me to look into buying a house, given my budget and monthly salary?\n",
    "- Can I afford an extra bedroom/bathroom or should I save up and add one later on?\n",
    "- Would it be better to buy a new property or an old run down one and use the extra money to renovate?\n",
    "- Is this a a good time to buy, given my budget and my salary, or to wait to purchase a house, saving up my monthly salary for a bigger down payment?\n",
    "\n",
    "These and more are the information that we will be able to provide to the users of the app, starting from our analysis of the King's County Housing Market."
   ]
  },
  {
   "cell_type": "markdown",
   "metadata": {},
   "source": [
    "## Looking at the data first"
   ]
  },
  {
   "cell_type": "markdown",
   "metadata": {},
   "source": [
    "Let's import all the libraries that we are going to need for our analysis."
   ]
  },
  {
   "cell_type": "code",
   "execution_count": 1,
   "metadata": {},
   "outputs": [],
   "source": [
    "# Your code here - remember to use markdown cells for comments as well!\n",
    "import numpy as np\n",
    "import pandas as pd\n",
    "from matplotlib import pyplot as plt\n",
    "import seaborn as sns\n",
    "import statsmodels.api as sm\n",
    "from sklearn.preprocessing import OneHotEncoder, StandardScaler, MinMaxScaler\n",
    "from sklearn.datasets import make_regression\n",
    "from sklearn.linear_model import LinearRegression\n",
    "import sklearn.metrics as metrics\n",
    "from random import gauss # these last 3 for cool graphs, not essential\n",
    "from mpl_toolkits.mplot3d import Axes3D\n",
    "from scipy import stats as stats\n",
    "from sklearn.preprocessing import LabelBinarizer\n",
    "\n",
    "%matplotlib inline"
   ]
  },
  {
   "cell_type": "markdown",
   "metadata": {},
   "source": [
    "The data is provided in the file "
   ]
  },
  {
   "cell_type": "markdown",
   "metadata": {},
   "source": [
    "### The Data\n",
    "This project uses the King County House Sales dataset, which can be found in `kc_house_data.csv` in the data folder in this assignment's GitHub repository. The description of the column names can be found in `column_names.md` in the same folder. As with most real world data sets, the column names are not perfectly described, so you'll have to do some research or use your best judgment if you have questions about what the data means.\n",
    "\n",
    "It is up to you to decide what data from this dataset to use and how to use it. If you are feeling overwhelmed or behind, we recommend you ignore some or all of the following features:\n",
    "\n",
    "date\n",
    "view\n",
    "sqft_above\n",
    "sqft_basement\n",
    "yr_renovated\n",
    "zipcode\n",
    "lat\n",
    "long\n",
    "sqft_living15\n",
    "sqft_lot15"
   ]
  },
  {
   "cell_type": "markdown",
   "metadata": {},
   "source": [
    "### **Column Names and Descriptions for King County Data Set**\n",
    "\n",
    "- `id` - Unique identifier for a house\n",
    "- `date` - Date house was sold\n",
    "- `price` - Sale price (prediction target)\n",
    "- `bedrooms` - Number of bedrooms\n",
    "- `bathrooms` - Number of bathrooms\n",
    "- `sqft_living` - Square footage of living space in the home\n",
    "- `sqft_lot` - Square footage of the lot\n",
    "- `floors` - Number of floors (levels) in house\n",
    "- `waterfront` - Whether the house is on a waterfront\n",
    "    - Includes Duwamish, Elliott Bay, Puget Sound, Lake Union, Ship Canal, Lake Washington, Lake Sammamish, other lake, and river/slough waterfronts\n",
    "- `view` - Quality of view from house\n",
    "    - Includes views of Mt. Rainier, Olympics, Cascades, Territorial, Seattle Skyline, Puget Sound, Lake Washington, Lake Sammamish, small lake / river / creek, and other\n",
    "- `condition` - How good the overall condition of the house is. Related to maintenance of house.\n",
    "    - See the [King County Assessor Website](https://info.kingcounty.gov/assessor/esales/Glossary.aspx?type=r) for further explanation of each condition code\n",
    "- `grade` - Overall grade of the house. Related to the construction and design of the house.\n",
    "    - See the [King County Assessor Website](https://info.kingcounty.gov/assessor/esales/Glossary.aspx?type=r) for further explanation of each building grade code\n",
    "- `sqft_above` - Square footage of house apart from basement\n",
    "- `sqft_basement` - Square footage of the basement\n",
    "- `yr_built` - Year when house was built\n",
    "- `yr_renovated` - Year when house was renovated\n",
    "- `zipcode` - ZIP Code used by the United States Postal Service\n",
    "- `lat` - Latitude coordinate\n",
    "- `long` - Longitude coordinate\n",
    "- `sqft_living15` - The square footage of interior housing living space for the nearest 15 neighbors\n",
    "- `sqft_lot15` - The square footage of the land lots of the nearest 15 neighbors"
   ]
  },
  {
   "cell_type": "code",
   "execution_count": 2,
   "metadata": {},
   "outputs": [],
   "source": [
    "df=pd.read_csv('Data/kc_house_data.csv')"
   ]
  },
  {
   "cell_type": "code",
   "execution_count": 3,
   "metadata": {},
   "outputs": [
    {
     "data": {
      "text/html": [
       "<div>\n",
       "<style scoped>\n",
       "    .dataframe tbody tr th:only-of-type {\n",
       "        vertical-align: middle;\n",
       "    }\n",
       "\n",
       "    .dataframe tbody tr th {\n",
       "        vertical-align: top;\n",
       "    }\n",
       "\n",
       "    .dataframe thead th {\n",
       "        text-align: right;\n",
       "    }\n",
       "</style>\n",
       "<table border=\"1\" class=\"dataframe\">\n",
       "  <thead>\n",
       "    <tr style=\"text-align: right;\">\n",
       "      <th></th>\n",
       "      <th>id</th>\n",
       "      <th>date</th>\n",
       "      <th>price</th>\n",
       "      <th>bedrooms</th>\n",
       "      <th>bathrooms</th>\n",
       "      <th>sqft_living</th>\n",
       "      <th>sqft_lot</th>\n",
       "      <th>floors</th>\n",
       "      <th>waterfront</th>\n",
       "      <th>view</th>\n",
       "      <th>...</th>\n",
       "      <th>grade</th>\n",
       "      <th>sqft_above</th>\n",
       "      <th>sqft_basement</th>\n",
       "      <th>yr_built</th>\n",
       "      <th>yr_renovated</th>\n",
       "      <th>zipcode</th>\n",
       "      <th>lat</th>\n",
       "      <th>long</th>\n",
       "      <th>sqft_living15</th>\n",
       "      <th>sqft_lot15</th>\n",
       "    </tr>\n",
       "  </thead>\n",
       "  <tbody>\n",
       "    <tr>\n",
       "      <th>0</th>\n",
       "      <td>7129300520</td>\n",
       "      <td>10/13/2014</td>\n",
       "      <td>221900.0</td>\n",
       "      <td>3</td>\n",
       "      <td>1.00</td>\n",
       "      <td>1180</td>\n",
       "      <td>5650</td>\n",
       "      <td>1.0</td>\n",
       "      <td>NaN</td>\n",
       "      <td>NONE</td>\n",
       "      <td>...</td>\n",
       "      <td>7 Average</td>\n",
       "      <td>1180</td>\n",
       "      <td>0.0</td>\n",
       "      <td>1955</td>\n",
       "      <td>0.0</td>\n",
       "      <td>98178</td>\n",
       "      <td>47.5112</td>\n",
       "      <td>-122.257</td>\n",
       "      <td>1340</td>\n",
       "      <td>5650</td>\n",
       "    </tr>\n",
       "    <tr>\n",
       "      <th>1</th>\n",
       "      <td>6414100192</td>\n",
       "      <td>12/9/2014</td>\n",
       "      <td>538000.0</td>\n",
       "      <td>3</td>\n",
       "      <td>2.25</td>\n",
       "      <td>2570</td>\n",
       "      <td>7242</td>\n",
       "      <td>2.0</td>\n",
       "      <td>NO</td>\n",
       "      <td>NONE</td>\n",
       "      <td>...</td>\n",
       "      <td>7 Average</td>\n",
       "      <td>2170</td>\n",
       "      <td>400.0</td>\n",
       "      <td>1951</td>\n",
       "      <td>1991.0</td>\n",
       "      <td>98125</td>\n",
       "      <td>47.7210</td>\n",
       "      <td>-122.319</td>\n",
       "      <td>1690</td>\n",
       "      <td>7639</td>\n",
       "    </tr>\n",
       "    <tr>\n",
       "      <th>2</th>\n",
       "      <td>5631500400</td>\n",
       "      <td>2/25/2015</td>\n",
       "      <td>180000.0</td>\n",
       "      <td>2</td>\n",
       "      <td>1.00</td>\n",
       "      <td>770</td>\n",
       "      <td>10000</td>\n",
       "      <td>1.0</td>\n",
       "      <td>NO</td>\n",
       "      <td>NONE</td>\n",
       "      <td>...</td>\n",
       "      <td>6 Low Average</td>\n",
       "      <td>770</td>\n",
       "      <td>0.0</td>\n",
       "      <td>1933</td>\n",
       "      <td>NaN</td>\n",
       "      <td>98028</td>\n",
       "      <td>47.7379</td>\n",
       "      <td>-122.233</td>\n",
       "      <td>2720</td>\n",
       "      <td>8062</td>\n",
       "    </tr>\n",
       "    <tr>\n",
       "      <th>3</th>\n",
       "      <td>2487200875</td>\n",
       "      <td>12/9/2014</td>\n",
       "      <td>604000.0</td>\n",
       "      <td>4</td>\n",
       "      <td>3.00</td>\n",
       "      <td>1960</td>\n",
       "      <td>5000</td>\n",
       "      <td>1.0</td>\n",
       "      <td>NO</td>\n",
       "      <td>NONE</td>\n",
       "      <td>...</td>\n",
       "      <td>7 Average</td>\n",
       "      <td>1050</td>\n",
       "      <td>910.0</td>\n",
       "      <td>1965</td>\n",
       "      <td>0.0</td>\n",
       "      <td>98136</td>\n",
       "      <td>47.5208</td>\n",
       "      <td>-122.393</td>\n",
       "      <td>1360</td>\n",
       "      <td>5000</td>\n",
       "    </tr>\n",
       "    <tr>\n",
       "      <th>4</th>\n",
       "      <td>1954400510</td>\n",
       "      <td>2/18/2015</td>\n",
       "      <td>510000.0</td>\n",
       "      <td>3</td>\n",
       "      <td>2.00</td>\n",
       "      <td>1680</td>\n",
       "      <td>8080</td>\n",
       "      <td>1.0</td>\n",
       "      <td>NO</td>\n",
       "      <td>NONE</td>\n",
       "      <td>...</td>\n",
       "      <td>8 Good</td>\n",
       "      <td>1680</td>\n",
       "      <td>0.0</td>\n",
       "      <td>1987</td>\n",
       "      <td>0.0</td>\n",
       "      <td>98074</td>\n",
       "      <td>47.6168</td>\n",
       "      <td>-122.045</td>\n",
       "      <td>1800</td>\n",
       "      <td>7503</td>\n",
       "    </tr>\n",
       "  </tbody>\n",
       "</table>\n",
       "<p>5 rows × 21 columns</p>\n",
       "</div>"
      ],
      "text/plain": [
       "           id        date     price  bedrooms  bathrooms  sqft_living  \\\n",
       "0  7129300520  10/13/2014  221900.0         3       1.00         1180   \n",
       "1  6414100192   12/9/2014  538000.0         3       2.25         2570   \n",
       "2  5631500400   2/25/2015  180000.0         2       1.00          770   \n",
       "3  2487200875   12/9/2014  604000.0         4       3.00         1960   \n",
       "4  1954400510   2/18/2015  510000.0         3       2.00         1680   \n",
       "\n",
       "   sqft_lot  floors waterfront  view  ...          grade sqft_above  \\\n",
       "0      5650     1.0        NaN  NONE  ...      7 Average       1180   \n",
       "1      7242     2.0         NO  NONE  ...      7 Average       2170   \n",
       "2     10000     1.0         NO  NONE  ...  6 Low Average        770   \n",
       "3      5000     1.0         NO  NONE  ...      7 Average       1050   \n",
       "4      8080     1.0         NO  NONE  ...         8 Good       1680   \n",
       "\n",
       "   sqft_basement yr_built  yr_renovated  zipcode      lat     long  \\\n",
       "0            0.0     1955           0.0    98178  47.5112 -122.257   \n",
       "1          400.0     1951        1991.0    98125  47.7210 -122.319   \n",
       "2            0.0     1933           NaN    98028  47.7379 -122.233   \n",
       "3          910.0     1965           0.0    98136  47.5208 -122.393   \n",
       "4            0.0     1987           0.0    98074  47.6168 -122.045   \n",
       "\n",
       "   sqft_living15  sqft_lot15  \n",
       "0           1340        5650  \n",
       "1           1690        7639  \n",
       "2           2720        8062  \n",
       "3           1360        5000  \n",
       "4           1800        7503  \n",
       "\n",
       "[5 rows x 21 columns]"
      ]
     },
     "execution_count": 3,
     "metadata": {},
     "output_type": "execute_result"
    }
   ],
   "source": [
    "df.head()"
   ]
  },
  {
   "cell_type": "code",
   "execution_count": 4,
   "metadata": {},
   "outputs": [
    {
     "name": "stdout",
     "output_type": "stream",
     "text": [
      "<class 'pandas.core.frame.DataFrame'>\n",
      "RangeIndex: 21597 entries, 0 to 21596\n",
      "Data columns (total 21 columns):\n",
      " #   Column         Non-Null Count  Dtype  \n",
      "---  ------         --------------  -----  \n",
      " 0   id             21597 non-null  int64  \n",
      " 1   date           21597 non-null  object \n",
      " 2   price          21597 non-null  float64\n",
      " 3   bedrooms       21597 non-null  int64  \n",
      " 4   bathrooms      21597 non-null  float64\n",
      " 5   sqft_living    21597 non-null  int64  \n",
      " 6   sqft_lot       21597 non-null  int64  \n",
      " 7   floors         21597 non-null  float64\n",
      " 8   waterfront     19221 non-null  object \n",
      " 9   view           21534 non-null  object \n",
      " 10  condition      21597 non-null  object \n",
      " 11  grade          21597 non-null  object \n",
      " 12  sqft_above     21597 non-null  int64  \n",
      " 13  sqft_basement  21597 non-null  object \n",
      " 14  yr_built       21597 non-null  int64  \n",
      " 15  yr_renovated   17755 non-null  float64\n",
      " 16  zipcode        21597 non-null  int64  \n",
      " 17  lat            21597 non-null  float64\n",
      " 18  long           21597 non-null  float64\n",
      " 19  sqft_living15  21597 non-null  int64  \n",
      " 20  sqft_lot15     21597 non-null  int64  \n",
      "dtypes: float64(6), int64(9), object(6)\n",
      "memory usage: 3.5+ MB\n"
     ]
    }
   ],
   "source": [
    "df.info()"
   ]
  },
  {
   "cell_type": "code",
   "execution_count": 5,
   "metadata": {},
   "outputs": [
    {
     "data": {
      "text/plain": [
       "NO     19075\n",
       "YES      146\n",
       "Name: waterfront, dtype: int64"
      ]
     },
     "execution_count": 5,
     "metadata": {},
     "output_type": "execute_result"
    }
   ],
   "source": [
    "df['waterfront'].value_counts()"
   ]
  },
  {
   "cell_type": "code",
   "execution_count": 6,
   "metadata": {},
   "outputs": [
    {
     "data": {
      "text/plain": [
       "NONE         19422\n",
       "AVERAGE        957\n",
       "GOOD           508\n",
       "FAIR           330\n",
       "EXCELLENT      317\n",
       "Name: view, dtype: int64"
      ]
     },
     "execution_count": 6,
     "metadata": {},
     "output_type": "execute_result"
    }
   ],
   "source": [
    "df['view'].value_counts()"
   ]
  },
  {
   "cell_type": "code",
   "execution_count": 7,
   "metadata": {},
   "outputs": [
    {
     "data": {
      "text/plain": [
       "0.0       17011\n",
       "2014.0       73\n",
       "2003.0       31\n",
       "2013.0       31\n",
       "2007.0       30\n",
       "          ...  \n",
       "1946.0        1\n",
       "1959.0        1\n",
       "1971.0        1\n",
       "1951.0        1\n",
       "1954.0        1\n",
       "Name: yr_renovated, Length: 70, dtype: int64"
      ]
     },
     "execution_count": 7,
     "metadata": {},
     "output_type": "execute_result"
    }
   ],
   "source": [
    "df['yr_renovated'].value_counts()"
   ]
  },
  {
   "cell_type": "markdown",
   "metadata": {},
   "source": [
    "ID is a unique identifier therefore not really relevant to our analysis.\n",
    "Also waterfront and view have very few entries that are not NaN, so I would drop those three columns before running an analysis on the data. Year renovated also has a few entries but I think the information it carries can be very interesting so we are going to keep it for now.\n",
    "I'll drop also latitude and longitude. In terms of the area for now I am just interested in the zipcode and I will dig later into that. But for now I just want the most relevant variables."
   ]
  },
  {
   "cell_type": "code",
   "execution_count": 8,
   "metadata": {},
   "outputs": [],
   "source": [
    "df.drop(['id', 'waterfront', 'view', 'lat', 'long', 'zipcode'], axis=1, inplace=True)"
   ]
  },
  {
   "cell_type": "markdown",
   "metadata": {},
   "source": [
    "What we are interested in in our model is if we can predict the price based on the information we have. So we are going to set y as the price, and X as all the other variables we have and we are going to fit and run a model."
   ]
  },
  {
   "cell_type": "markdown",
   "metadata": {},
   "source": [
    "First I need to do one hot encoding before being able to fit a model.\n",
    "But I guess before that I could do a heatmap and the all graph thingy."
   ]
  },
  {
   "cell_type": "code",
   "execution_count": 9,
   "metadata": {},
   "outputs": [
    {
     "data": {
      "image/png": "[encoded data removed]",
      "text/plain": [
       "<Figure size 1080x864 with 2 Axes>"
      ]
     },
     "metadata": {
      "needs_background": "light"
     },
     "output_type": "display_data"
    }
   ],
   "source": [
    "#heat map\n",
    "import seaborn as sns\n",
    "fig, ax = plt.subplots(figsize=(15, 12))\n",
    "sns.heatmap(df.corr(), center=0, ax=ax, annot=True, mask=np.triu(np.ones_like(df.corr(), dtype=bool)),);"
   ]
  },
  {
   "cell_type": "code",
   "execution_count": 10,
   "metadata": {},
   "outputs": [
    {
     "data": {
      "image/png": "[encoded data removed]",
      "text/plain": [
       "<Figure size 864x864 with 121 Axes>"
      ]
     },
     "metadata": {
      "needs_background": "light"
     },
     "output_type": "display_data"
    }
   ],
   "source": [
    "pd.plotting.scatter_matrix(df,figsize  = [12, 12]);\n",
    "plt.show()"
   ]
  },
  {
   "cell_type": "code",
   "execution_count": 11,
   "metadata": {},
   "outputs": [
    {
     "data": {
      "text/html": [
       "<div>\n",
       "<style scoped>\n",
       "    .dataframe tbody tr th:only-of-type {\n",
       "        vertical-align: middle;\n",
       "    }\n",
       "\n",
       "    .dataframe tbody tr th {\n",
       "        vertical-align: top;\n",
       "    }\n",
       "\n",
       "    .dataframe thead th {\n",
       "        text-align: right;\n",
       "    }\n",
       "</style>\n",
       "<table border=\"1\" class=\"dataframe\">\n",
       "  <thead>\n",
       "    <tr style=\"text-align: right;\">\n",
       "      <th></th>\n",
       "      <th>price</th>\n",
       "      <th>bedrooms</th>\n",
       "      <th>bathrooms</th>\n",
       "      <th>sqft_living</th>\n",
       "      <th>sqft_lot</th>\n",
       "      <th>floors</th>\n",
       "      <th>sqft_above</th>\n",
       "      <th>yr_built</th>\n",
       "      <th>yr_renovated</th>\n",
       "      <th>sqft_living15</th>\n",
       "      <th>sqft_lot15</th>\n",
       "    </tr>\n",
       "  </thead>\n",
       "  <tbody>\n",
       "    <tr>\n",
       "      <th>price</th>\n",
       "      <td>1.000000</td>\n",
       "      <td>0.308787</td>\n",
       "      <td>0.525906</td>\n",
       "      <td>0.701917</td>\n",
       "      <td>0.089876</td>\n",
       "      <td>0.256804</td>\n",
       "      <td>0.605368</td>\n",
       "      <td>0.053953</td>\n",
       "      <td>0.129599</td>\n",
       "      <td>0.585241</td>\n",
       "      <td>0.082845</td>\n",
       "    </tr>\n",
       "    <tr>\n",
       "      <th>bedrooms</th>\n",
       "      <td>0.308787</td>\n",
       "      <td>1.000000</td>\n",
       "      <td>0.514508</td>\n",
       "      <td>0.578212</td>\n",
       "      <td>0.032471</td>\n",
       "      <td>0.177944</td>\n",
       "      <td>0.479386</td>\n",
       "      <td>0.155670</td>\n",
       "      <td>0.018495</td>\n",
       "      <td>0.393406</td>\n",
       "      <td>0.030690</td>\n",
       "    </tr>\n",
       "    <tr>\n",
       "      <th>bathrooms</th>\n",
       "      <td>0.525906</td>\n",
       "      <td>0.514508</td>\n",
       "      <td>1.000000</td>\n",
       "      <td>0.755758</td>\n",
       "      <td>0.088373</td>\n",
       "      <td>0.502582</td>\n",
       "      <td>0.686668</td>\n",
       "      <td>0.507173</td>\n",
       "      <td>0.051050</td>\n",
       "      <td>0.569884</td>\n",
       "      <td>0.088303</td>\n",
       "    </tr>\n",
       "    <tr>\n",
       "      <th>sqft_living</th>\n",
       "      <td>0.701917</td>\n",
       "      <td>0.578212</td>\n",
       "      <td>0.755758</td>\n",
       "      <td>1.000000</td>\n",
       "      <td>0.173453</td>\n",
       "      <td>0.353953</td>\n",
       "      <td>0.876448</td>\n",
       "      <td>0.318152</td>\n",
       "      <td>0.055660</td>\n",
       "      <td>0.756402</td>\n",
       "      <td>0.184342</td>\n",
       "    </tr>\n",
       "    <tr>\n",
       "      <th>sqft_lot</th>\n",
       "      <td>0.089876</td>\n",
       "      <td>0.032471</td>\n",
       "      <td>0.088373</td>\n",
       "      <td>0.173453</td>\n",
       "      <td>1.000000</td>\n",
       "      <td>-0.004814</td>\n",
       "      <td>0.184139</td>\n",
       "      <td>0.052946</td>\n",
       "      <td>0.004513</td>\n",
       "      <td>0.144763</td>\n",
       "      <td>0.718204</td>\n",
       "    </tr>\n",
       "    <tr>\n",
       "      <th>floors</th>\n",
       "      <td>0.256804</td>\n",
       "      <td>0.177944</td>\n",
       "      <td>0.502582</td>\n",
       "      <td>0.353953</td>\n",
       "      <td>-0.004814</td>\n",
       "      <td>1.000000</td>\n",
       "      <td>0.523989</td>\n",
       "      <td>0.489193</td>\n",
       "      <td>0.003535</td>\n",
       "      <td>0.280102</td>\n",
       "      <td>-0.010722</td>\n",
       "    </tr>\n",
       "    <tr>\n",
       "      <th>sqft_above</th>\n",
       "      <td>0.605368</td>\n",
       "      <td>0.479386</td>\n",
       "      <td>0.686668</td>\n",
       "      <td>0.876448</td>\n",
       "      <td>0.184139</td>\n",
       "      <td>0.523989</td>\n",
       "      <td>1.000000</td>\n",
       "      <td>0.424037</td>\n",
       "      <td>0.022137</td>\n",
       "      <td>0.731767</td>\n",
       "      <td>0.195077</td>\n",
       "    </tr>\n",
       "    <tr>\n",
       "      <th>yr_built</th>\n",
       "      <td>0.053953</td>\n",
       "      <td>0.155670</td>\n",
       "      <td>0.507173</td>\n",
       "      <td>0.318152</td>\n",
       "      <td>0.052946</td>\n",
       "      <td>0.489193</td>\n",
       "      <td>0.424037</td>\n",
       "      <td>1.000000</td>\n",
       "      <td>-0.225209</td>\n",
       "      <td>0.326377</td>\n",
       "      <td>0.070777</td>\n",
       "    </tr>\n",
       "    <tr>\n",
       "      <th>yr_renovated</th>\n",
       "      <td>0.129599</td>\n",
       "      <td>0.018495</td>\n",
       "      <td>0.051050</td>\n",
       "      <td>0.055660</td>\n",
       "      <td>0.004513</td>\n",
       "      <td>0.003535</td>\n",
       "      <td>0.022137</td>\n",
       "      <td>-0.225209</td>\n",
       "      <td>1.000000</td>\n",
       "      <td>-0.000247</td>\n",
       "      <td>0.003852</td>\n",
       "    </tr>\n",
       "    <tr>\n",
       "      <th>sqft_living15</th>\n",
       "      <td>0.585241</td>\n",
       "      <td>0.393406</td>\n",
       "      <td>0.569884</td>\n",
       "      <td>0.756402</td>\n",
       "      <td>0.144763</td>\n",
       "      <td>0.280102</td>\n",
       "      <td>0.731767</td>\n",
       "      <td>0.326377</td>\n",
       "      <td>-0.000247</td>\n",
       "      <td>1.000000</td>\n",
       "      <td>0.183515</td>\n",
       "    </tr>\n",
       "    <tr>\n",
       "      <th>sqft_lot15</th>\n",
       "      <td>0.082845</td>\n",
       "      <td>0.030690</td>\n",
       "      <td>0.088303</td>\n",
       "      <td>0.184342</td>\n",
       "      <td>0.718204</td>\n",
       "      <td>-0.010722</td>\n",
       "      <td>0.195077</td>\n",
       "      <td>0.070777</td>\n",
       "      <td>0.003852</td>\n",
       "      <td>0.183515</td>\n",
       "      <td>1.000000</td>\n",
       "    </tr>\n",
       "  </tbody>\n",
       "</table>\n",
       "</div>"
      ],
      "text/plain": [
       "                  price  bedrooms  bathrooms  sqft_living  sqft_lot    floors  \\\n",
       "price          1.000000  0.308787   0.525906     0.701917  0.089876  0.256804   \n",
       "bedrooms       0.308787  1.000000   0.514508     0.578212  0.032471  0.177944   \n",
       "bathrooms      0.525906  0.514508   1.000000     0.755758  0.088373  0.502582   \n",
       "sqft_living    0.701917  0.578212   0.755758     1.000000  0.173453  0.353953   \n",
       "sqft_lot       0.089876  0.032471   0.088373     0.173453  1.000000 -0.004814   \n",
       "floors         0.256804  0.177944   0.502582     0.353953 -0.004814  1.000000   \n",
       "sqft_above     0.605368  0.479386   0.686668     0.876448  0.184139  0.523989   \n",
       "yr_built       0.053953  0.155670   0.507173     0.318152  0.052946  0.489193   \n",
       "yr_renovated   0.129599  0.018495   0.051050     0.055660  0.004513  0.003535   \n",
       "sqft_living15  0.585241  0.393406   0.569884     0.756402  0.144763  0.280102   \n",
       "sqft_lot15     0.082845  0.030690   0.088303     0.184342  0.718204 -0.010722   \n",
       "\n",
       "               sqft_above  yr_built  yr_renovated  sqft_living15  sqft_lot15  \n",
       "price            0.605368  0.053953      0.129599       0.585241    0.082845  \n",
       "bedrooms         0.479386  0.155670      0.018495       0.393406    0.030690  \n",
       "bathrooms        0.686668  0.507173      0.051050       0.569884    0.088303  \n",
       "sqft_living      0.876448  0.318152      0.055660       0.756402    0.184342  \n",
       "sqft_lot         0.184139  0.052946      0.004513       0.144763    0.718204  \n",
       "floors           0.523989  0.489193      0.003535       0.280102   -0.010722  \n",
       "sqft_above       1.000000  0.424037      0.022137       0.731767    0.195077  \n",
       "yr_built         0.424037  1.000000     -0.225209       0.326377    0.070777  \n",
       "yr_renovated     0.022137 -0.225209      1.000000      -0.000247    0.003852  \n",
       "sqft_living15    0.731767  0.326377     -0.000247       1.000000    0.183515  \n",
       "sqft_lot15       0.195077  0.070777      0.003852       0.183515    1.000000  "
      ]
     },
     "execution_count": 11,
     "metadata": {},
     "output_type": "execute_result"
    }
   ],
   "source": [
    "df.corr()"
   ]
  },
  {
   "cell_type": "markdown",
   "metadata": {},
   "source": [
    "There are some interesting correlations here.\n",
    "As we expected especially for number of bedrooms, bathrooms, living sqfootage and sqft above.\n",
    "Interestingly enough there is also a correlation with the sqft of the houses nearby.\n",
    "To better understand/explore these correlations we are going to do some data preparation, using one hot encoding and then running a linear regression model and then we will proceed to try to improve our model getting rid of outliers and studying the correlation coefficients. And we will see if that improves our model."
   ]
  },
  {
   "cell_type": "markdown",
   "metadata": {},
   "source": [
    "## Clean the data\n",
    "### Change formats\n",
    "Some of the data is in the format 'object' and therefore cannot be included in the calculations. In one case, basement sqft it is probably a matter of just changing the format, while other entries like condition and grade are categorical values that need to be translated into something that our model can work with.\n",
    "This is why we are going to use the method \"One Hot Encoding\" to change the format of these variables to be able to include them in our calculation. "
   ]
  },
  {
   "cell_type": "code",
   "execution_count": 12,
   "metadata": {},
   "outputs": [],
   "source": [
    "df=pd.read_csv('Data/kc_house_data.csv')"
   ]
  },
  {
   "cell_type": "code",
   "execution_count": 13,
   "metadata": {},
   "outputs": [
    {
     "data": {
      "text/plain": [
       "0.0       12826\n",
       "?           454\n",
       "600.0       217\n",
       "500.0       209\n",
       "700.0       208\n",
       "          ...  \n",
       "1024.0        1\n",
       "1880.0        1\n",
       "1816.0        1\n",
       "2250.0        1\n",
       "1248.0        1\n",
       "Name: sqft_basement, Length: 304, dtype: int64"
      ]
     },
     "execution_count": 13,
     "metadata": {},
     "output_type": "execute_result"
    }
   ],
   "source": [
    "df['sqft_basement'].value_counts()"
   ]
  },
  {
   "cell_type": "markdown",
   "metadata": {},
   "source": [
    "Clearly most of the values are numerical, and can be easily turned into a numerical format, while we are going to change the value '?' into zero, as we are not aware of what is the square footage of the basement, it is safer to do this compared to assuming some other value for it."
   ]
  },
  {
   "cell_type": "code",
   "execution_count": 14,
   "metadata": {},
   "outputs": [],
   "source": [
    "df['sqft_basement'] = df['sqft_basement'].replace('?','0.0')"
   ]
  },
  {
   "cell_type": "code",
   "execution_count": 15,
   "metadata": {},
   "outputs": [],
   "source": [
    "df['sqft_basement'] = df['sqft_basement'].astype(float)"
   ]
  },
  {
   "cell_type": "code",
   "execution_count": 16,
   "metadata": {},
   "outputs": [
    {
     "data": {
      "text/plain": [
       "0.0       13280\n",
       "600.0       217\n",
       "500.0       209\n",
       "700.0       208\n",
       "800.0       201\n",
       "          ...  \n",
       "915.0         1\n",
       "295.0         1\n",
       "1281.0        1\n",
       "2130.0        1\n",
       "906.0         1\n",
       "Name: sqft_basement, Length: 303, dtype: int64"
      ]
     },
     "execution_count": 16,
     "metadata": {},
     "output_type": "execute_result"
    }
   ],
   "source": [
    "df['sqft_basement'].value_counts()"
   ]
  },
  {
   "cell_type": "code",
   "execution_count": 17,
   "metadata": {},
   "outputs": [
    {
     "name": "stdout",
     "output_type": "stream",
     "text": [
      "<class 'pandas.core.frame.DataFrame'>\n",
      "RangeIndex: 21597 entries, 0 to 21596\n",
      "Data columns (total 21 columns):\n",
      " #   Column         Non-Null Count  Dtype  \n",
      "---  ------         --------------  -----  \n",
      " 0   id             21597 non-null  int64  \n",
      " 1   date           21597 non-null  object \n",
      " 2   price          21597 non-null  float64\n",
      " 3   bedrooms       21597 non-null  int64  \n",
      " 4   bathrooms      21597 non-null  float64\n",
      " 5   sqft_living    21597 non-null  int64  \n",
      " 6   sqft_lot       21597 non-null  int64  \n",
      " 7   floors         21597 non-null  float64\n",
      " 8   waterfront     19221 non-null  object \n",
      " 9   view           21534 non-null  object \n",
      " 10  condition      21597 non-null  object \n",
      " 11  grade          21597 non-null  object \n",
      " 12  sqft_above     21597 non-null  int64  \n",
      " 13  sqft_basement  21597 non-null  float64\n",
      " 14  yr_built       21597 non-null  int64  \n",
      " 15  yr_renovated   17755 non-null  float64\n",
      " 16  zipcode        21597 non-null  int64  \n",
      " 17  lat            21597 non-null  float64\n",
      " 18  long           21597 non-null  float64\n",
      " 19  sqft_living15  21597 non-null  int64  \n",
      " 20  sqft_lot15     21597 non-null  int64  \n",
      "dtypes: float64(7), int64(9), object(5)\n",
      "memory usage: 3.5+ MB\n"
     ]
    }
   ],
   "source": [
    "df.info()"
   ]
  },
  {
   "cell_type": "markdown",
   "metadata": {},
   "source": [
    "Some other columns are actually numerical but need to be converted into that. Like \"grade\" has actually a number representing it but because it is followed also by a string its format is object.\n",
    "Let us take care of that."
   ]
  },
  {
   "cell_type": "code",
   "execution_count": 18,
   "metadata": {},
   "outputs": [
    {
     "data": {
      "text/plain": [
       "7 Average        8974\n",
       "8 Good           6065\n",
       "9 Better         2615\n",
       "6 Low Average    2038\n",
       "10 Very Good     1134\n",
       "11 Excellent      399\n",
       "5 Fair            242\n",
       "12 Luxury          89\n",
       "4 Low              27\n",
       "13 Mansion         13\n",
       "3 Poor              1\n",
       "Name: grade, dtype: int64"
      ]
     },
     "execution_count": 18,
     "metadata": {},
     "output_type": "execute_result"
    }
   ],
   "source": [
    "df['grade'].value_counts()"
   ]
  },
  {
   "cell_type": "code",
   "execution_count": 19,
   "metadata": {},
   "outputs": [],
   "source": [
    "# Create a dictionary using which we\n",
    "# will remap the values\n",
    "dict = {'7 Average' : 7,'8 Good': 8,'9 Better':9,'6 Low Average':6,'10 Very Good':10,'11 Excellent':11,'5 Fair':5,\\\n",
    "        '12 Luxury':12,'4 Low':4,'13 Mansion':13 ,'3 Poor':3}\n",
    " \n",
    "# Remap the values of the dataframe\n",
    "df=df.replace({\"grade\": dict})"
   ]
  },
  {
   "cell_type": "code",
   "execution_count": 20,
   "metadata": {},
   "outputs": [],
   "source": [
    "df['grade'] = df['grade'].astype(float)"
   ]
  },
  {
   "cell_type": "code",
   "execution_count": 21,
   "metadata": {},
   "outputs": [
    {
     "name": "stdout",
     "output_type": "stream",
     "text": [
      "<class 'pandas.core.frame.DataFrame'>\n",
      "RangeIndex: 21597 entries, 0 to 21596\n",
      "Data columns (total 21 columns):\n",
      " #   Column         Non-Null Count  Dtype  \n",
      "---  ------         --------------  -----  \n",
      " 0   id             21597 non-null  int64  \n",
      " 1   date           21597 non-null  object \n",
      " 2   price          21597 non-null  float64\n",
      " 3   bedrooms       21597 non-null  int64  \n",
      " 4   bathrooms      21597 non-null  float64\n",
      " 5   sqft_living    21597 non-null  int64  \n",
      " 6   sqft_lot       21597 non-null  int64  \n",
      " 7   floors         21597 non-null  float64\n",
      " 8   waterfront     19221 non-null  object \n",
      " 9   view           21534 non-null  object \n",
      " 10  condition      21597 non-null  object \n",
      " 11  grade          21597 non-null  float64\n",
      " 12  sqft_above     21597 non-null  int64  \n",
      " 13  sqft_basement  21597 non-null  float64\n",
      " 14  yr_built       21597 non-null  int64  \n",
      " 15  yr_renovated   17755 non-null  float64\n",
      " 16  zipcode        21597 non-null  int64  \n",
      " 17  lat            21597 non-null  float64\n",
      " 18  long           21597 non-null  float64\n",
      " 19  sqft_living15  21597 non-null  int64  \n",
      " 20  sqft_lot15     21597 non-null  int64  \n",
      "dtypes: float64(8), int64(9), object(4)\n",
      "memory usage: 3.5+ MB\n"
     ]
    }
   ],
   "source": [
    "df.info()"
   ]
  },
  {
   "cell_type": "markdown",
   "metadata": {},
   "source": [
    "Now let us explore the column 'condition'. Maybe we can also replace that easily with numerical values"
   ]
  },
  {
   "cell_type": "code",
   "execution_count": 22,
   "metadata": {},
   "outputs": [
    {
     "data": {
      "text/plain": [
       "Average      14020\n",
       "Good          5677\n",
       "Very Good     1701\n",
       "Fair           170\n",
       "Poor            29\n",
       "Name: condition, dtype: int64"
      ]
     },
     "execution_count": 22,
     "metadata": {},
     "output_type": "execute_result"
    }
   ],
   "source": [
    "df['condition'].value_counts()"
   ]
  },
  {
   "cell_type": "markdown",
   "metadata": {},
   "source": [
    "From the reference that has been given to us (https://info.kingcounty.gov/assessor/esales/Glossary.aspx?type=r) it is clear that the values for condition are to be interepreted as follows:\n",
    "Relative to age and grade. Coded 1-5.\n",
    "\n",
    "1 = Poor\n",
    "\n",
    "2 = Fair\n",
    "\n",
    "3 = Average\n",
    "\n",
    "4 = Good\n",
    "\n",
    "5= Very Good\n",
    "\n",
    "We will then translate those values in the same way"
   ]
  },
  {
   "cell_type": "code",
   "execution_count": 23,
   "metadata": {},
   "outputs": [],
   "source": [
    "dict = {'Poor':1, 'Fair':2, 'Average': 3,'Good': 4,'Very Good':5}\n",
    " \n",
    "# Remap the values of the dataframe\n",
    "df=df.replace({\"condition\": dict})"
   ]
  },
  {
   "cell_type": "code",
   "execution_count": 24,
   "metadata": {},
   "outputs": [
    {
     "data": {
      "text/plain": [
       "3    14020\n",
       "4     5677\n",
       "5     1701\n",
       "2      170\n",
       "1       29\n",
       "Name: condition, dtype: int64"
      ]
     },
     "execution_count": 24,
     "metadata": {},
     "output_type": "execute_result"
    }
   ],
   "source": [
    "df['condition'].value_counts()"
   ]
  },
  {
   "cell_type": "code",
   "execution_count": 25,
   "metadata": {},
   "outputs": [
    {
     "name": "stdout",
     "output_type": "stream",
     "text": [
      "<class 'pandas.core.frame.DataFrame'>\n",
      "RangeIndex: 21597 entries, 0 to 21596\n",
      "Data columns (total 21 columns):\n",
      " #   Column         Non-Null Count  Dtype  \n",
      "---  ------         --------------  -----  \n",
      " 0   id             21597 non-null  int64  \n",
      " 1   date           21597 non-null  object \n",
      " 2   price          21597 non-null  float64\n",
      " 3   bedrooms       21597 non-null  int64  \n",
      " 4   bathrooms      21597 non-null  float64\n",
      " 5   sqft_living    21597 non-null  int64  \n",
      " 6   sqft_lot       21597 non-null  int64  \n",
      " 7   floors         21597 non-null  float64\n",
      " 8   waterfront     19221 non-null  object \n",
      " 9   view           21534 non-null  object \n",
      " 10  condition      21597 non-null  int64  \n",
      " 11  grade          21597 non-null  float64\n",
      " 12  sqft_above     21597 non-null  int64  \n",
      " 13  sqft_basement  21597 non-null  float64\n",
      " 14  yr_built       21597 non-null  int64  \n",
      " 15  yr_renovated   17755 non-null  float64\n",
      " 16  zipcode        21597 non-null  int64  \n",
      " 17  lat            21597 non-null  float64\n",
      " 18  long           21597 non-null  float64\n",
      " 19  sqft_living15  21597 non-null  int64  \n",
      " 20  sqft_lot15     21597 non-null  int64  \n",
      "dtypes: float64(8), int64(10), object(3)\n",
      "memory usage: 3.5+ MB\n"
     ]
    }
   ],
   "source": [
    "df.info()"
   ]
  },
  {
   "cell_type": "markdown",
   "metadata": {},
   "source": [
    "### Handling missing values"
   ]
  },
  {
   "cell_type": "markdown",
   "metadata": {},
   "source": [
    "As we can see the columns that have missing values are 'waterfront', 'view' and 'year renovated'.\n",
    "There are clear reasons for some values to be missing as not all of the houses have a waterfront or information about the view,\n",
    "and not all the houses were renovated. We will use that information later and separately, but for now we are not going to include these variables in our model so there is not need to worry about them."
   ]
  },
  {
   "cell_type": "code",
   "execution_count": 26,
   "metadata": {},
   "outputs": [
    {
     "data": {
      "text/plain": [
       "350000.0    172\n",
       "450000.0    172\n",
       "550000.0    159\n",
       "500000.0    152\n",
       "425000.0    150\n",
       "           ... \n",
       "870515.0      1\n",
       "336950.0      1\n",
       "386100.0      1\n",
       "176250.0      1\n",
       "884744.0      1\n",
       "Name: price, Length: 3622, dtype: int64"
      ]
     },
     "execution_count": 26,
     "metadata": {},
     "output_type": "execute_result"
    }
   ],
   "source": [
    "df['price'].value_counts()"
   ]
  },
  {
   "cell_type": "code",
   "execution_count": 27,
   "metadata": {},
   "outputs": [
    {
     "data": {
      "text/plain": [
       "id                  0\n",
       "date                0\n",
       "price               0\n",
       "bedrooms            0\n",
       "bathrooms           0\n",
       "sqft_living         0\n",
       "sqft_lot            0\n",
       "floors              0\n",
       "waterfront       2376\n",
       "view               63\n",
       "condition           0\n",
       "grade               0\n",
       "sqft_above          0\n",
       "sqft_basement       0\n",
       "yr_built            0\n",
       "yr_renovated     3842\n",
       "zipcode             0\n",
       "lat                 0\n",
       "long                0\n",
       "sqft_living15       0\n",
       "sqft_lot15          0\n",
       "dtype: int64"
      ]
     },
     "execution_count": 27,
     "metadata": {},
     "output_type": "execute_result"
    }
   ],
   "source": [
    "df.isnull().sum()"
   ]
  },
  {
   "cell_type": "markdown",
   "metadata": {},
   "source": [
    "## Preliminary Regression Model"
   ]
  },
  {
   "cell_type": "markdown",
   "metadata": {},
   "source": [
    "Running a linear regression here before one hot encoding (not sure I will keep it but let's try)"
   ]
  },
  {
   "cell_type": "code",
   "execution_count": 28,
   "metadata": {},
   "outputs": [
    {
     "data": {
      "text/plain": [
       "LinearRegression()"
      ]
     },
     "execution_count": 28,
     "metadata": {},
     "output_type": "execute_result"
    }
   ],
   "source": [
    "y=df['price']\n",
    "X=df.drop(['price', 'date', 'view', 'waterfront', 'yr_renovated'], axis=1)\n",
    "\n",
    "linreg = LinearRegression()\n",
    "linreg.fit(X, y)"
   ]
  },
  {
   "cell_type": "code",
   "execution_count": 29,
   "metadata": {},
   "outputs": [
    {
     "data": {
      "text/plain": [
       "array([-9.54592156e-07, -4.66408101e+04,  4.74067772e+04,  1.25801811e+02,\n",
       "        1.46182212e-01,  1.27043556e+04,  2.58073278e+04,  1.03206486e+05,\n",
       "        6.11910092e+01,  5.49860781e+01, -3.06734189e+03, -4.84376852e+02,\n",
       "        5.49977094e+05, -2.47112697e+05,  3.80648388e+01, -3.31506028e-01])"
      ]
     },
     "execution_count": 29,
     "metadata": {},
     "output_type": "execute_result"
    }
   ],
   "source": [
    "linreg.coef_"
   ]
  },
  {
   "cell_type": "code",
   "execution_count": 30,
   "metadata": {},
   "outputs": [
    {
     "data": {
      "text/plain": [
       "-3561265.2262814706"
      ]
     },
     "execution_count": 30,
     "metadata": {},
     "output_type": "execute_result"
    }
   ],
   "source": [
    "linreg.intercept_"
   ]
  },
  {
   "cell_type": "code",
   "execution_count": 31,
   "metadata": {},
   "outputs": [
    {
     "data": {
      "text/plain": [
       "0.6609340329668749"
      ]
     },
     "execution_count": 31,
     "metadata": {},
     "output_type": "execute_result"
    }
   ],
   "source": [
    "R2=metrics.r2_score(y,linreg.predict(X))\n",
    "print('', R2)"
   ]
  },
  {
   "cell_type": "code",
   "execution_count": 32,
   "metadata": {},
   "outputs": [
    {
     "data": {
      "text/html": [
       "<table class=\"simpletable\">\n",
       "<caption>OLS Regression Results</caption>\n",
       "<tr>\n",
       "  <th>Dep. Variable:</th>          <td>price</td>      <th>  R-squared:         </th>  <td>   0.661</td>  \n",
       "</tr>\n",
       "<tr>\n",
       "  <th>Model:</th>                   <td>OLS</td>       <th>  Adj. R-squared:    </th>  <td>   0.661</td>  \n",
       "</tr>\n",
       "<tr>\n",
       "  <th>Method:</th>             <td>Least Squares</td>  <th>  F-statistic:       </th>  <td>   2804.</td>  \n",
       "</tr>\n",
       "<tr>\n",
       "  <th>Date:</th>             <td>Wed, 02 Nov 2022</td> <th>  Prob (F-statistic):</th>   <td>  0.00</td>   \n",
       "</tr>\n",
       "<tr>\n",
       "  <th>Time:</th>                 <td>09:57:41</td>     <th>  Log-Likelihood:    </th> <td>-2.9571e+05</td>\n",
       "</tr>\n",
       "<tr>\n",
       "  <th>No. Observations:</th>      <td> 21597</td>      <th>  AIC:               </th>  <td>5.915e+05</td> \n",
       "</tr>\n",
       "<tr>\n",
       "  <th>Df Residuals:</th>          <td> 21581</td>      <th>  BIC:               </th>  <td>5.916e+05</td> \n",
       "</tr>\n",
       "<tr>\n",
       "  <th>Df Model:</th>              <td>    15</td>      <th>                     </th>      <td> </td>     \n",
       "</tr>\n",
       "<tr>\n",
       "  <th>Covariance Type:</th>      <td>nonrobust</td>    <th>                     </th>      <td> </td>     \n",
       "</tr>\n",
       "</table>\n",
       "<table class=\"simpletable\">\n",
       "<tr>\n",
       "        <td></td>           <th>coef</th>     <th>std err</th>      <th>t</th>      <th>P>|t|</th>  <th>[0.025</th>    <th>0.975]</th>  \n",
       "</tr>\n",
       "<tr>\n",
       "  <th>id</th>            <td>-9.709e-07</td> <td> 5.13e-07</td> <td>   -1.893</td> <td> 0.058</td> <td>-1.98e-06</td> <td> 3.42e-08</td>\n",
       "</tr>\n",
       "<tr>\n",
       "  <th>bedrooms</th>      <td> -4.68e+04</td> <td> 2003.275</td> <td>  -23.362</td> <td> 0.000</td> <td>-5.07e+04</td> <td>-4.29e+04</td>\n",
       "</tr>\n",
       "<tr>\n",
       "  <th>bathrooms</th>     <td> 4.743e+04</td> <td> 3443.001</td> <td>   13.774</td> <td> 0.000</td> <td> 4.07e+04</td> <td> 5.42e+04</td>\n",
       "</tr>\n",
       "<tr>\n",
       "  <th>sqft_living</th>   <td>  126.4121</td> <td>   19.200</td> <td>    6.584</td> <td> 0.000</td> <td>   88.779</td> <td>  164.045</td>\n",
       "</tr>\n",
       "<tr>\n",
       "  <th>sqft_lot</th>      <td>    0.1438</td> <td>    0.051</td> <td>    2.821</td> <td> 0.005</td> <td>    0.044</td> <td>    0.244</td>\n",
       "</tr>\n",
       "<tr>\n",
       "  <th>floors</th>        <td> 1.348e+04</td> <td> 3764.005</td> <td>    3.580</td> <td> 0.000</td> <td> 6098.191</td> <td> 2.09e+04</td>\n",
       "</tr>\n",
       "<tr>\n",
       "  <th>condition</th>     <td>  2.54e+04</td> <td> 2439.474</td> <td>   10.412</td> <td> 0.000</td> <td> 2.06e+04</td> <td> 3.02e+04</td>\n",
       "</tr>\n",
       "<tr>\n",
       "  <th>grade</th>         <td> 1.034e+05</td> <td> 2278.992</td> <td>   45.391</td> <td> 0.000</td> <td>  9.9e+04</td> <td> 1.08e+05</td>\n",
       "</tr>\n",
       "<tr>\n",
       "  <th>sqft_above</th>    <td>   60.3493</td> <td>   19.182</td> <td>    3.146</td> <td> 0.002</td> <td>   22.751</td> <td>   97.947</td>\n",
       "</tr>\n",
       "<tr>\n",
       "  <th>sqft_basement</th> <td>   54.9942</td> <td>   19.038</td> <td>    2.889</td> <td> 0.004</td> <td>   17.678</td> <td>   92.310</td>\n",
       "</tr>\n",
       "<tr>\n",
       "  <th>yr_built</th>      <td>-3097.8584</td> <td>   67.870</td> <td>  -45.644</td> <td> 0.000</td> <td>-3230.889</td> <td>-2964.828</td>\n",
       "</tr>\n",
       "<tr>\n",
       "  <th>zipcode</th>       <td> -518.1317</td> <td>   18.968</td> <td>  -27.315</td> <td> 0.000</td> <td> -555.311</td> <td> -480.952</td>\n",
       "</tr>\n",
       "<tr>\n",
       "  <th>lat</th>           <td> 5.502e+05</td> <td> 1.13e+04</td> <td>   48.481</td> <td> 0.000</td> <td> 5.28e+05</td> <td> 5.72e+05</td>\n",
       "</tr>\n",
       "<tr>\n",
       "  <th>long</th>          <td>-2.455e+05</td> <td> 1.39e+04</td> <td>  -17.651</td> <td> 0.000</td> <td>-2.73e+05</td> <td>-2.18e+05</td>\n",
       "</tr>\n",
       "<tr>\n",
       "  <th>sqft_living15</th> <td>   37.3860</td> <td>    3.570</td> <td>   10.472</td> <td> 0.000</td> <td>   30.389</td> <td>   44.383</td>\n",
       "</tr>\n",
       "<tr>\n",
       "  <th>sqft_lot15</th>    <td>   -0.3353</td> <td>    0.078</td> <td>   -4.293</td> <td> 0.000</td> <td>   -0.488</td> <td>   -0.182</td>\n",
       "</tr>\n",
       "</table>\n",
       "<table class=\"simpletable\">\n",
       "<tr>\n",
       "  <th>Omnibus:</th>       <td>19472.663</td> <th>  Durbin-Watson:     </th>  <td>   1.993</td>  \n",
       "</tr>\n",
       "<tr>\n",
       "  <th>Prob(Omnibus):</th>  <td> 0.000</td>   <th>  Jarque-Bera (JB):  </th> <td>1935163.733</td>\n",
       "</tr>\n",
       "<tr>\n",
       "  <th>Skew:</th>           <td> 3.950</td>   <th>  Prob(JB):          </th>  <td>    0.00</td>  \n",
       "</tr>\n",
       "<tr>\n",
       "  <th>Kurtosis:</th>       <td>48.695</td>   <th>  Cond. No.          </th>  <td>5.20e+10</td>  \n",
       "</tr>\n",
       "</table><br/><br/>Notes:<br/>[1] Standard Errors assume that the covariance matrix of the errors is correctly specified.<br/>[2] The condition number is large, 5.2e+10. This might indicate that there are<br/>strong multicollinearity or other numerical problems."
      ],
      "text/plain": [
       "<class 'statsmodels.iolib.summary.Summary'>\n",
       "\"\"\"\n",
       "                            OLS Regression Results                            \n",
       "==============================================================================\n",
       "Dep. Variable:                  price   R-squared:                       0.661\n",
       "Model:                            OLS   Adj. R-squared:                  0.661\n",
       "Method:                 Least Squares   F-statistic:                     2804.\n",
       "Date:                Wed, 02 Nov 2022   Prob (F-statistic):               0.00\n",
       "Time:                        09:57:41   Log-Likelihood:            -2.9571e+05\n",
       "No. Observations:               21597   AIC:                         5.915e+05\n",
       "Df Residuals:                   21581   BIC:                         5.916e+05\n",
       "Df Model:                          15                                         \n",
       "Covariance Type:            nonrobust                                         \n",
       "=================================================================================\n",
       "                    coef    std err          t      P>|t|      [0.025      0.975]\n",
       "---------------------------------------------------------------------------------\n",
       "id            -9.709e-07   5.13e-07     -1.893      0.058   -1.98e-06    3.42e-08\n",
       "bedrooms       -4.68e+04   2003.275    -23.362      0.000   -5.07e+04   -4.29e+04\n",
       "bathrooms      4.743e+04   3443.001     13.774      0.000    4.07e+04    5.42e+04\n",
       "sqft_living     126.4121     19.200      6.584      0.000      88.779     164.045\n",
       "sqft_lot          0.1438      0.051      2.821      0.005       0.044       0.244\n",
       "floors         1.348e+04   3764.005      3.580      0.000    6098.191    2.09e+04\n",
       "condition       2.54e+04   2439.474     10.412      0.000    2.06e+04    3.02e+04\n",
       "grade          1.034e+05   2278.992     45.391      0.000     9.9e+04    1.08e+05\n",
       "sqft_above       60.3493     19.182      3.146      0.002      22.751      97.947\n",
       "sqft_basement    54.9942     19.038      2.889      0.004      17.678      92.310\n",
       "yr_built      -3097.8584     67.870    -45.644      0.000   -3230.889   -2964.828\n",
       "zipcode        -518.1317     18.968    -27.315      0.000    -555.311    -480.952\n",
       "lat            5.502e+05   1.13e+04     48.481      0.000    5.28e+05    5.72e+05\n",
       "long          -2.455e+05   1.39e+04    -17.651      0.000   -2.73e+05   -2.18e+05\n",
       "sqft_living15    37.3860      3.570     10.472      0.000      30.389      44.383\n",
       "sqft_lot15       -0.3353      0.078     -4.293      0.000      -0.488      -0.182\n",
       "==============================================================================\n",
       "Omnibus:                    19472.663   Durbin-Watson:                   1.993\n",
       "Prob(Omnibus):                  0.000   Jarque-Bera (JB):          1935163.733\n",
       "Skew:                           3.950   Prob(JB):                         0.00\n",
       "Kurtosis:                      48.695   Cond. No.                     5.20e+10\n",
       "==============================================================================\n",
       "\n",
       "Notes:\n",
       "[1] Standard Errors assume that the covariance matrix of the errors is correctly specified.\n",
       "[2] The condition number is large, 5.2e+10. This might indicate that there are\n",
       "strong multicollinearity or other numerical problems.\n",
       "\"\"\""
      ]
     },
     "execution_count": 32,
     "metadata": {},
     "output_type": "execute_result"
    }
   ],
   "source": [
    "model = sm.OLS(y, X).fit()\n",
    "model.summary()"
   ]
  },
  {
   "cell_type": "markdown",
   "metadata": {},
   "source": [
    "## One Hot Encoding"
   ]
  },
  {
   "cell_type": "markdown",
   "metadata": {},
   "source": [
    "One Hot Encoding is a method that allows us to transform categorical variables into numerical ones to be able to better include them in our model.\n",
    "Some variables that are for sure categorical are the number of bedrooms and bathrooms and floors.\n",
    "And we are also going to transform the information about when the house was renovated into a binary selection, whether the house was renovated or not."
   ]
  },
  {
   "cell_type": "code",
   "execution_count": 33,
   "metadata": {},
   "outputs": [
    {
     "data": {
      "text/html": [
       "<div>\n",
       "<style scoped>\n",
       "    .dataframe tbody tr th:only-of-type {\n",
       "        vertical-align: middle;\n",
       "    }\n",
       "\n",
       "    .dataframe tbody tr th {\n",
       "        vertical-align: top;\n",
       "    }\n",
       "\n",
       "    .dataframe thead th {\n",
       "        text-align: right;\n",
       "    }\n",
       "</style>\n",
       "<table border=\"1\" class=\"dataframe\">\n",
       "  <thead>\n",
       "    <tr style=\"text-align: right;\">\n",
       "      <th></th>\n",
       "      <th>id</th>\n",
       "      <th>date</th>\n",
       "      <th>price</th>\n",
       "      <th>bedrooms</th>\n",
       "      <th>bathrooms</th>\n",
       "      <th>sqft_living</th>\n",
       "      <th>sqft_lot</th>\n",
       "      <th>floors</th>\n",
       "      <th>waterfront</th>\n",
       "      <th>view</th>\n",
       "      <th>...</th>\n",
       "      <th>grade</th>\n",
       "      <th>sqft_above</th>\n",
       "      <th>sqft_basement</th>\n",
       "      <th>yr_built</th>\n",
       "      <th>yr_renovated</th>\n",
       "      <th>zipcode</th>\n",
       "      <th>lat</th>\n",
       "      <th>long</th>\n",
       "      <th>sqft_living15</th>\n",
       "      <th>sqft_lot15</th>\n",
       "    </tr>\n",
       "  </thead>\n",
       "  <tbody>\n",
       "    <tr>\n",
       "      <th>0</th>\n",
       "      <td>7129300520</td>\n",
       "      <td>10/13/2014</td>\n",
       "      <td>221900.0</td>\n",
       "      <td>3</td>\n",
       "      <td>1.00</td>\n",
       "      <td>1180</td>\n",
       "      <td>5650</td>\n",
       "      <td>1.0</td>\n",
       "      <td>NaN</td>\n",
       "      <td>NONE</td>\n",
       "      <td>...</td>\n",
       "      <td>7.0</td>\n",
       "      <td>1180</td>\n",
       "      <td>0.0</td>\n",
       "      <td>1955</td>\n",
       "      <td>0.0</td>\n",
       "      <td>98178</td>\n",
       "      <td>47.5112</td>\n",
       "      <td>-122.257</td>\n",
       "      <td>1340</td>\n",
       "      <td>5650</td>\n",
       "    </tr>\n",
       "    <tr>\n",
       "      <th>1</th>\n",
       "      <td>6414100192</td>\n",
       "      <td>12/9/2014</td>\n",
       "      <td>538000.0</td>\n",
       "      <td>3</td>\n",
       "      <td>2.25</td>\n",
       "      <td>2570</td>\n",
       "      <td>7242</td>\n",
       "      <td>2.0</td>\n",
       "      <td>NO</td>\n",
       "      <td>NONE</td>\n",
       "      <td>...</td>\n",
       "      <td>7.0</td>\n",
       "      <td>2170</td>\n",
       "      <td>400.0</td>\n",
       "      <td>1951</td>\n",
       "      <td>1991.0</td>\n",
       "      <td>98125</td>\n",
       "      <td>47.7210</td>\n",
       "      <td>-122.319</td>\n",
       "      <td>1690</td>\n",
       "      <td>7639</td>\n",
       "    </tr>\n",
       "    <tr>\n",
       "      <th>2</th>\n",
       "      <td>5631500400</td>\n",
       "      <td>2/25/2015</td>\n",
       "      <td>180000.0</td>\n",
       "      <td>2</td>\n",
       "      <td>1.00</td>\n",
       "      <td>770</td>\n",
       "      <td>10000</td>\n",
       "      <td>1.0</td>\n",
       "      <td>NO</td>\n",
       "      <td>NONE</td>\n",
       "      <td>...</td>\n",
       "      <td>6.0</td>\n",
       "      <td>770</td>\n",
       "      <td>0.0</td>\n",
       "      <td>1933</td>\n",
       "      <td>NaN</td>\n",
       "      <td>98028</td>\n",
       "      <td>47.7379</td>\n",
       "      <td>-122.233</td>\n",
       "      <td>2720</td>\n",
       "      <td>8062</td>\n",
       "    </tr>\n",
       "    <tr>\n",
       "      <th>3</th>\n",
       "      <td>2487200875</td>\n",
       "      <td>12/9/2014</td>\n",
       "      <td>604000.0</td>\n",
       "      <td>4</td>\n",
       "      <td>3.00</td>\n",
       "      <td>1960</td>\n",
       "      <td>5000</td>\n",
       "      <td>1.0</td>\n",
       "      <td>NO</td>\n",
       "      <td>NONE</td>\n",
       "      <td>...</td>\n",
       "      <td>7.0</td>\n",
       "      <td>1050</td>\n",
       "      <td>910.0</td>\n",
       "      <td>1965</td>\n",
       "      <td>0.0</td>\n",
       "      <td>98136</td>\n",
       "      <td>47.5208</td>\n",
       "      <td>-122.393</td>\n",
       "      <td>1360</td>\n",
       "      <td>5000</td>\n",
       "    </tr>\n",
       "    <tr>\n",
       "      <th>4</th>\n",
       "      <td>1954400510</td>\n",
       "      <td>2/18/2015</td>\n",
       "      <td>510000.0</td>\n",
       "      <td>3</td>\n",
       "      <td>2.00</td>\n",
       "      <td>1680</td>\n",
       "      <td>8080</td>\n",
       "      <td>1.0</td>\n",
       "      <td>NO</td>\n",
       "      <td>NONE</td>\n",
       "      <td>...</td>\n",
       "      <td>8.0</td>\n",
       "      <td>1680</td>\n",
       "      <td>0.0</td>\n",
       "      <td>1987</td>\n",
       "      <td>0.0</td>\n",
       "      <td>98074</td>\n",
       "      <td>47.6168</td>\n",
       "      <td>-122.045</td>\n",
       "      <td>1800</td>\n",
       "      <td>7503</td>\n",
       "    </tr>\n",
       "    <tr>\n",
       "      <th>...</th>\n",
       "      <td>...</td>\n",
       "      <td>...</td>\n",
       "      <td>...</td>\n",
       "      <td>...</td>\n",
       "      <td>...</td>\n",
       "      <td>...</td>\n",
       "      <td>...</td>\n",
       "      <td>...</td>\n",
       "      <td>...</td>\n",
       "      <td>...</td>\n",
       "      <td>...</td>\n",
       "      <td>...</td>\n",
       "      <td>...</td>\n",
       "      <td>...</td>\n",
       "      <td>...</td>\n",
       "      <td>...</td>\n",
       "      <td>...</td>\n",
       "      <td>...</td>\n",
       "      <td>...</td>\n",
       "      <td>...</td>\n",
       "      <td>...</td>\n",
       "    </tr>\n",
       "    <tr>\n",
       "      <th>21592</th>\n",
       "      <td>263000018</td>\n",
       "      <td>5/21/2014</td>\n",
       "      <td>360000.0</td>\n",
       "      <td>3</td>\n",
       "      <td>2.50</td>\n",
       "      <td>1530</td>\n",
       "      <td>1131</td>\n",
       "      <td>3.0</td>\n",
       "      <td>NO</td>\n",
       "      <td>NONE</td>\n",
       "      <td>...</td>\n",
       "      <td>8.0</td>\n",
       "      <td>1530</td>\n",
       "      <td>0.0</td>\n",
       "      <td>2009</td>\n",
       "      <td>0.0</td>\n",
       "      <td>98103</td>\n",
       "      <td>47.6993</td>\n",
       "      <td>-122.346</td>\n",
       "      <td>1530</td>\n",
       "      <td>1509</td>\n",
       "    </tr>\n",
       "    <tr>\n",
       "      <th>21593</th>\n",
       "      <td>6600060120</td>\n",
       "      <td>2/23/2015</td>\n",
       "      <td>400000.0</td>\n",
       "      <td>4</td>\n",
       "      <td>2.50</td>\n",
       "      <td>2310</td>\n",
       "      <td>5813</td>\n",
       "      <td>2.0</td>\n",
       "      <td>NO</td>\n",
       "      <td>NONE</td>\n",
       "      <td>...</td>\n",
       "      <td>8.0</td>\n",
       "      <td>2310</td>\n",
       "      <td>0.0</td>\n",
       "      <td>2014</td>\n",
       "      <td>0.0</td>\n",
       "      <td>98146</td>\n",
       "      <td>47.5107</td>\n",
       "      <td>-122.362</td>\n",
       "      <td>1830</td>\n",
       "      <td>7200</td>\n",
       "    </tr>\n",
       "    <tr>\n",
       "      <th>21594</th>\n",
       "      <td>1523300141</td>\n",
       "      <td>6/23/2014</td>\n",
       "      <td>402101.0</td>\n",
       "      <td>2</td>\n",
       "      <td>0.75</td>\n",
       "      <td>1020</td>\n",
       "      <td>1350</td>\n",
       "      <td>2.0</td>\n",
       "      <td>NO</td>\n",
       "      <td>NONE</td>\n",
       "      <td>...</td>\n",
       "      <td>7.0</td>\n",
       "      <td>1020</td>\n",
       "      <td>0.0</td>\n",
       "      <td>2009</td>\n",
       "      <td>0.0</td>\n",
       "      <td>98144</td>\n",
       "      <td>47.5944</td>\n",
       "      <td>-122.299</td>\n",
       "      <td>1020</td>\n",
       "      <td>2007</td>\n",
       "    </tr>\n",
       "    <tr>\n",
       "      <th>21595</th>\n",
       "      <td>291310100</td>\n",
       "      <td>1/16/2015</td>\n",
       "      <td>400000.0</td>\n",
       "      <td>3</td>\n",
       "      <td>2.50</td>\n",
       "      <td>1600</td>\n",
       "      <td>2388</td>\n",
       "      <td>2.0</td>\n",
       "      <td>NaN</td>\n",
       "      <td>NONE</td>\n",
       "      <td>...</td>\n",
       "      <td>8.0</td>\n",
       "      <td>1600</td>\n",
       "      <td>0.0</td>\n",
       "      <td>2004</td>\n",
       "      <td>0.0</td>\n",
       "      <td>98027</td>\n",
       "      <td>47.5345</td>\n",
       "      <td>-122.069</td>\n",
       "      <td>1410</td>\n",
       "      <td>1287</td>\n",
       "    </tr>\n",
       "    <tr>\n",
       "      <th>21596</th>\n",
       "      <td>1523300157</td>\n",
       "      <td>10/15/2014</td>\n",
       "      <td>325000.0</td>\n",
       "      <td>2</td>\n",
       "      <td>0.75</td>\n",
       "      <td>1020</td>\n",
       "      <td>1076</td>\n",
       "      <td>2.0</td>\n",
       "      <td>NO</td>\n",
       "      <td>NONE</td>\n",
       "      <td>...</td>\n",
       "      <td>7.0</td>\n",
       "      <td>1020</td>\n",
       "      <td>0.0</td>\n",
       "      <td>2008</td>\n",
       "      <td>0.0</td>\n",
       "      <td>98144</td>\n",
       "      <td>47.5941</td>\n",
       "      <td>-122.299</td>\n",
       "      <td>1020</td>\n",
       "      <td>1357</td>\n",
       "    </tr>\n",
       "  </tbody>\n",
       "</table>\n",
       "<p>21597 rows × 21 columns</p>\n",
       "</div>"
      ],
      "text/plain": [
       "               id        date     price  bedrooms  bathrooms  sqft_living  \\\n",
       "0      7129300520  10/13/2014  221900.0         3       1.00         1180   \n",
       "1      6414100192   12/9/2014  538000.0         3       2.25         2570   \n",
       "2      5631500400   2/25/2015  180000.0         2       1.00          770   \n",
       "3      2487200875   12/9/2014  604000.0         4       3.00         1960   \n",
       "4      1954400510   2/18/2015  510000.0         3       2.00         1680   \n",
       "...           ...         ...       ...       ...        ...          ...   \n",
       "21592   263000018   5/21/2014  360000.0         3       2.50         1530   \n",
       "21593  6600060120   2/23/2015  400000.0         4       2.50         2310   \n",
       "21594  1523300141   6/23/2014  402101.0         2       0.75         1020   \n",
       "21595   291310100   1/16/2015  400000.0         3       2.50         1600   \n",
       "21596  1523300157  10/15/2014  325000.0         2       0.75         1020   \n",
       "\n",
       "       sqft_lot  floors waterfront  view  ...  grade  sqft_above  \\\n",
       "0          5650     1.0        NaN  NONE  ...    7.0        1180   \n",
       "1          7242     2.0         NO  NONE  ...    7.0        2170   \n",
       "2         10000     1.0         NO  NONE  ...    6.0         770   \n",
       "3          5000     1.0         NO  NONE  ...    7.0        1050   \n",
       "4          8080     1.0         NO  NONE  ...    8.0        1680   \n",
       "...         ...     ...        ...   ...  ...    ...         ...   \n",
       "21592      1131     3.0         NO  NONE  ...    8.0        1530   \n",
       "21593      5813     2.0         NO  NONE  ...    8.0        2310   \n",
       "21594      1350     2.0         NO  NONE  ...    7.0        1020   \n",
       "21595      2388     2.0        NaN  NONE  ...    8.0        1600   \n",
       "21596      1076     2.0         NO  NONE  ...    7.0        1020   \n",
       "\n",
       "       sqft_basement  yr_built  yr_renovated  zipcode      lat     long  \\\n",
       "0                0.0      1955           0.0    98178  47.5112 -122.257   \n",
       "1              400.0      1951        1991.0    98125  47.7210 -122.319   \n",
       "2                0.0      1933           NaN    98028  47.7379 -122.233   \n",
       "3              910.0      1965           0.0    98136  47.5208 -122.393   \n",
       "4                0.0      1987           0.0    98074  47.6168 -122.045   \n",
       "...              ...       ...           ...      ...      ...      ...   \n",
       "21592            0.0      2009           0.0    98103  47.6993 -122.346   \n",
       "21593            0.0      2014           0.0    98146  47.5107 -122.362   \n",
       "21594            0.0      2009           0.0    98144  47.5944 -122.299   \n",
       "21595            0.0      2004           0.0    98027  47.5345 -122.069   \n",
       "21596            0.0      2008           0.0    98144  47.5941 -122.299   \n",
       "\n",
       "       sqft_living15  sqft_lot15  \n",
       "0               1340        5650  \n",
       "1               1690        7639  \n",
       "2               2720        8062  \n",
       "3               1360        5000  \n",
       "4               1800        7503  \n",
       "...              ...         ...  \n",
       "21592           1530        1509  \n",
       "21593           1830        7200  \n",
       "21594           1020        2007  \n",
       "21595           1410        1287  \n",
       "21596           1020        1357  \n",
       "\n",
       "[21597 rows x 21 columns]"
      ]
     },
     "execution_count": 33,
     "metadata": {},
     "output_type": "execute_result"
    }
   ],
   "source": [
    "df"
   ]
  },
  {
   "cell_type": "code",
   "execution_count": 34,
   "metadata": {},
   "outputs": [
    {
     "data": {
      "text/html": [
       "<div>\n",
       "<style scoped>\n",
       "    .dataframe tbody tr th:only-of-type {\n",
       "        vertical-align: middle;\n",
       "    }\n",
       "\n",
       "    .dataframe tbody tr th {\n",
       "        vertical-align: top;\n",
       "    }\n",
       "\n",
       "    .dataframe thead th {\n",
       "        text-align: right;\n",
       "    }\n",
       "</style>\n",
       "<table border=\"1\" class=\"dataframe\">\n",
       "  <thead>\n",
       "    <tr style=\"text-align: right;\">\n",
       "      <th></th>\n",
       "      <th>id</th>\n",
       "      <th>date</th>\n",
       "      <th>price</th>\n",
       "      <th>sqft_living</th>\n",
       "      <th>sqft_lot</th>\n",
       "      <th>waterfront</th>\n",
       "      <th>view</th>\n",
       "      <th>condition</th>\n",
       "      <th>grade</th>\n",
       "      <th>sqft_above</th>\n",
       "      <th>...</th>\n",
       "      <th>bathrooms_6.75</th>\n",
       "      <th>bathrooms_7.5</th>\n",
       "      <th>bathrooms_7.75</th>\n",
       "      <th>bathrooms_8.0</th>\n",
       "      <th>floors_1.0</th>\n",
       "      <th>floors_1.5</th>\n",
       "      <th>floors_2.0</th>\n",
       "      <th>floors_2.5</th>\n",
       "      <th>floors_3.0</th>\n",
       "      <th>floors_3.5</th>\n",
       "    </tr>\n",
       "  </thead>\n",
       "  <tbody>\n",
       "    <tr>\n",
       "      <th>0</th>\n",
       "      <td>7129300520</td>\n",
       "      <td>10/13/2014</td>\n",
       "      <td>221900.0</td>\n",
       "      <td>1180</td>\n",
       "      <td>5650</td>\n",
       "      <td>NaN</td>\n",
       "      <td>NONE</td>\n",
       "      <td>3</td>\n",
       "      <td>7.0</td>\n",
       "      <td>1180</td>\n",
       "      <td>...</td>\n",
       "      <td>0.0</td>\n",
       "      <td>0.0</td>\n",
       "      <td>0.0</td>\n",
       "      <td>0.0</td>\n",
       "      <td>1.0</td>\n",
       "      <td>0.0</td>\n",
       "      <td>0.0</td>\n",
       "      <td>0.0</td>\n",
       "      <td>0.0</td>\n",
       "      <td>0.0</td>\n",
       "    </tr>\n",
       "    <tr>\n",
       "      <th>1</th>\n",
       "      <td>6414100192</td>\n",
       "      <td>12/9/2014</td>\n",
       "      <td>538000.0</td>\n",
       "      <td>2570</td>\n",
       "      <td>7242</td>\n",
       "      <td>NO</td>\n",
       "      <td>NONE</td>\n",
       "      <td>3</td>\n",
       "      <td>7.0</td>\n",
       "      <td>2170</td>\n",
       "      <td>...</td>\n",
       "      <td>0.0</td>\n",
       "      <td>0.0</td>\n",
       "      <td>0.0</td>\n",
       "      <td>0.0</td>\n",
       "      <td>0.0</td>\n",
       "      <td>0.0</td>\n",
       "      <td>1.0</td>\n",
       "      <td>0.0</td>\n",
       "      <td>0.0</td>\n",
       "      <td>0.0</td>\n",
       "    </tr>\n",
       "    <tr>\n",
       "      <th>2</th>\n",
       "      <td>5631500400</td>\n",
       "      <td>2/25/2015</td>\n",
       "      <td>180000.0</td>\n",
       "      <td>770</td>\n",
       "      <td>10000</td>\n",
       "      <td>NO</td>\n",
       "      <td>NONE</td>\n",
       "      <td>3</td>\n",
       "      <td>6.0</td>\n",
       "      <td>770</td>\n",
       "      <td>...</td>\n",
       "      <td>0.0</td>\n",
       "      <td>0.0</td>\n",
       "      <td>0.0</td>\n",
       "      <td>0.0</td>\n",
       "      <td>1.0</td>\n",
       "      <td>0.0</td>\n",
       "      <td>0.0</td>\n",
       "      <td>0.0</td>\n",
       "      <td>0.0</td>\n",
       "      <td>0.0</td>\n",
       "    </tr>\n",
       "    <tr>\n",
       "      <th>3</th>\n",
       "      <td>2487200875</td>\n",
       "      <td>12/9/2014</td>\n",
       "      <td>604000.0</td>\n",
       "      <td>1960</td>\n",
       "      <td>5000</td>\n",
       "      <td>NO</td>\n",
       "      <td>NONE</td>\n",
       "      <td>5</td>\n",
       "      <td>7.0</td>\n",
       "      <td>1050</td>\n",
       "      <td>...</td>\n",
       "      <td>0.0</td>\n",
       "      <td>0.0</td>\n",
       "      <td>0.0</td>\n",
       "      <td>0.0</td>\n",
       "      <td>1.0</td>\n",
       "      <td>0.0</td>\n",
       "      <td>0.0</td>\n",
       "      <td>0.0</td>\n",
       "      <td>0.0</td>\n",
       "      <td>0.0</td>\n",
       "    </tr>\n",
       "    <tr>\n",
       "      <th>4</th>\n",
       "      <td>1954400510</td>\n",
       "      <td>2/18/2015</td>\n",
       "      <td>510000.0</td>\n",
       "      <td>1680</td>\n",
       "      <td>8080</td>\n",
       "      <td>NO</td>\n",
       "      <td>NONE</td>\n",
       "      <td>3</td>\n",
       "      <td>8.0</td>\n",
       "      <td>1680</td>\n",
       "      <td>...</td>\n",
       "      <td>0.0</td>\n",
       "      <td>0.0</td>\n",
       "      <td>0.0</td>\n",
       "      <td>0.0</td>\n",
       "      <td>1.0</td>\n",
       "      <td>0.0</td>\n",
       "      <td>0.0</td>\n",
       "      <td>0.0</td>\n",
       "      <td>0.0</td>\n",
       "      <td>0.0</td>\n",
       "    </tr>\n",
       "    <tr>\n",
       "      <th>...</th>\n",
       "      <td>...</td>\n",
       "      <td>...</td>\n",
       "      <td>...</td>\n",
       "      <td>...</td>\n",
       "      <td>...</td>\n",
       "      <td>...</td>\n",
       "      <td>...</td>\n",
       "      <td>...</td>\n",
       "      <td>...</td>\n",
       "      <td>...</td>\n",
       "      <td>...</td>\n",
       "      <td>...</td>\n",
       "      <td>...</td>\n",
       "      <td>...</td>\n",
       "      <td>...</td>\n",
       "      <td>...</td>\n",
       "      <td>...</td>\n",
       "      <td>...</td>\n",
       "      <td>...</td>\n",
       "      <td>...</td>\n",
       "      <td>...</td>\n",
       "    </tr>\n",
       "    <tr>\n",
       "      <th>21592</th>\n",
       "      <td>263000018</td>\n",
       "      <td>5/21/2014</td>\n",
       "      <td>360000.0</td>\n",
       "      <td>1530</td>\n",
       "      <td>1131</td>\n",
       "      <td>NO</td>\n",
       "      <td>NONE</td>\n",
       "      <td>3</td>\n",
       "      <td>8.0</td>\n",
       "      <td>1530</td>\n",
       "      <td>...</td>\n",
       "      <td>0.0</td>\n",
       "      <td>0.0</td>\n",
       "      <td>0.0</td>\n",
       "      <td>0.0</td>\n",
       "      <td>0.0</td>\n",
       "      <td>0.0</td>\n",
       "      <td>0.0</td>\n",
       "      <td>0.0</td>\n",
       "      <td>1.0</td>\n",
       "      <td>0.0</td>\n",
       "    </tr>\n",
       "    <tr>\n",
       "      <th>21593</th>\n",
       "      <td>6600060120</td>\n",
       "      <td>2/23/2015</td>\n",
       "      <td>400000.0</td>\n",
       "      <td>2310</td>\n",
       "      <td>5813</td>\n",
       "      <td>NO</td>\n",
       "      <td>NONE</td>\n",
       "      <td>3</td>\n",
       "      <td>8.0</td>\n",
       "      <td>2310</td>\n",
       "      <td>...</td>\n",
       "      <td>0.0</td>\n",
       "      <td>0.0</td>\n",
       "      <td>0.0</td>\n",
       "      <td>0.0</td>\n",
       "      <td>0.0</td>\n",
       "      <td>0.0</td>\n",
       "      <td>1.0</td>\n",
       "      <td>0.0</td>\n",
       "      <td>0.0</td>\n",
       "      <td>0.0</td>\n",
       "    </tr>\n",
       "    <tr>\n",
       "      <th>21594</th>\n",
       "      <td>1523300141</td>\n",
       "      <td>6/23/2014</td>\n",
       "      <td>402101.0</td>\n",
       "      <td>1020</td>\n",
       "      <td>1350</td>\n",
       "      <td>NO</td>\n",
       "      <td>NONE</td>\n",
       "      <td>3</td>\n",
       "      <td>7.0</td>\n",
       "      <td>1020</td>\n",
       "      <td>...</td>\n",
       "      <td>0.0</td>\n",
       "      <td>0.0</td>\n",
       "      <td>0.0</td>\n",
       "      <td>0.0</td>\n",
       "      <td>0.0</td>\n",
       "      <td>0.0</td>\n",
       "      <td>1.0</td>\n",
       "      <td>0.0</td>\n",
       "      <td>0.0</td>\n",
       "      <td>0.0</td>\n",
       "    </tr>\n",
       "    <tr>\n",
       "      <th>21595</th>\n",
       "      <td>291310100</td>\n",
       "      <td>1/16/2015</td>\n",
       "      <td>400000.0</td>\n",
       "      <td>1600</td>\n",
       "      <td>2388</td>\n",
       "      <td>NaN</td>\n",
       "      <td>NONE</td>\n",
       "      <td>3</td>\n",
       "      <td>8.0</td>\n",
       "      <td>1600</td>\n",
       "      <td>...</td>\n",
       "      <td>0.0</td>\n",
       "      <td>0.0</td>\n",
       "      <td>0.0</td>\n",
       "      <td>0.0</td>\n",
       "      <td>0.0</td>\n",
       "      <td>0.0</td>\n",
       "      <td>1.0</td>\n",
       "      <td>0.0</td>\n",
       "      <td>0.0</td>\n",
       "      <td>0.0</td>\n",
       "    </tr>\n",
       "    <tr>\n",
       "      <th>21596</th>\n",
       "      <td>1523300157</td>\n",
       "      <td>10/15/2014</td>\n",
       "      <td>325000.0</td>\n",
       "      <td>1020</td>\n",
       "      <td>1076</td>\n",
       "      <td>NO</td>\n",
       "      <td>NONE</td>\n",
       "      <td>3</td>\n",
       "      <td>7.0</td>\n",
       "      <td>1020</td>\n",
       "      <td>...</td>\n",
       "      <td>0.0</td>\n",
       "      <td>0.0</td>\n",
       "      <td>0.0</td>\n",
       "      <td>0.0</td>\n",
       "      <td>0.0</td>\n",
       "      <td>0.0</td>\n",
       "      <td>1.0</td>\n",
       "      <td>0.0</td>\n",
       "      <td>0.0</td>\n",
       "      <td>0.0</td>\n",
       "    </tr>\n",
       "  </tbody>\n",
       "</table>\n",
       "<p>21597 rows × 65 columns</p>\n",
       "</div>"
      ],
      "text/plain": [
       "               id        date     price  sqft_living  sqft_lot waterfront  \\\n",
       "0      7129300520  10/13/2014  221900.0         1180      5650        NaN   \n",
       "1      6414100192   12/9/2014  538000.0         2570      7242         NO   \n",
       "2      5631500400   2/25/2015  180000.0          770     10000         NO   \n",
       "3      2487200875   12/9/2014  604000.0         1960      5000         NO   \n",
       "4      1954400510   2/18/2015  510000.0         1680      8080         NO   \n",
       "...           ...         ...       ...          ...       ...        ...   \n",
       "21592   263000018   5/21/2014  360000.0         1530      1131         NO   \n",
       "21593  6600060120   2/23/2015  400000.0         2310      5813         NO   \n",
       "21594  1523300141   6/23/2014  402101.0         1020      1350         NO   \n",
       "21595   291310100   1/16/2015  400000.0         1600      2388        NaN   \n",
       "21596  1523300157  10/15/2014  325000.0         1020      1076         NO   \n",
       "\n",
       "       view  condition  grade  sqft_above  ...  bathrooms_6.75  bathrooms_7.5  \\\n",
       "0      NONE          3    7.0        1180  ...             0.0            0.0   \n",
       "1      NONE          3    7.0        2170  ...             0.0            0.0   \n",
       "2      NONE          3    6.0         770  ...             0.0            0.0   \n",
       "3      NONE          5    7.0        1050  ...             0.0            0.0   \n",
       "4      NONE          3    8.0        1680  ...             0.0            0.0   \n",
       "...     ...        ...    ...         ...  ...             ...            ...   \n",
       "21592  NONE          3    8.0        1530  ...             0.0            0.0   \n",
       "21593  NONE          3    8.0        2310  ...             0.0            0.0   \n",
       "21594  NONE          3    7.0        1020  ...             0.0            0.0   \n",
       "21595  NONE          3    8.0        1600  ...             0.0            0.0   \n",
       "21596  NONE          3    7.0        1020  ...             0.0            0.0   \n",
       "\n",
       "       bathrooms_7.75  bathrooms_8.0  floors_1.0  floors_1.5  floors_2.0  \\\n",
       "0                 0.0            0.0         1.0         0.0         0.0   \n",
       "1                 0.0            0.0         0.0         0.0         1.0   \n",
       "2                 0.0            0.0         1.0         0.0         0.0   \n",
       "3                 0.0            0.0         1.0         0.0         0.0   \n",
       "4                 0.0            0.0         1.0         0.0         0.0   \n",
       "...               ...            ...         ...         ...         ...   \n",
       "21592             0.0            0.0         0.0         0.0         0.0   \n",
       "21593             0.0            0.0         0.0         0.0         1.0   \n",
       "21594             0.0            0.0         0.0         0.0         1.0   \n",
       "21595             0.0            0.0         0.0         0.0         1.0   \n",
       "21596             0.0            0.0         0.0         0.0         1.0   \n",
       "\n",
       "       floors_2.5  floors_3.0  floors_3.5  \n",
       "0             0.0         0.0         0.0  \n",
       "1             0.0         0.0         0.0  \n",
       "2             0.0         0.0         0.0  \n",
       "3             0.0         0.0         0.0  \n",
       "4             0.0         0.0         0.0  \n",
       "...           ...         ...         ...  \n",
       "21592         0.0         1.0         0.0  \n",
       "21593         0.0         0.0         0.0  \n",
       "21594         0.0         0.0         0.0  \n",
       "21595         0.0         0.0         0.0  \n",
       "21596         0.0         0.0         0.0  \n",
       "\n",
       "[21597 rows x 65 columns]"
      ]
     },
     "execution_count": 34,
     "metadata": {},
     "output_type": "execute_result"
    }
   ],
   "source": [
    "from sklearn.preprocessing import OneHotEncoder\n",
    "\n",
    "ohe = OneHotEncoder(handle_unknown='ignore', sparse=False)\n",
    "\n",
    "# Categorical columns\n",
    "cat_columns = ['bedrooms', 'bathrooms', 'floors']\n",
    "\n",
    "# Fit encoder on training set\n",
    "ohe.fit(df[cat_columns])\n",
    "\n",
    "# Get new column names\n",
    "new_cat_columns = ohe.get_feature_names(input_features=cat_columns)\n",
    "\n",
    "# Transform training set\n",
    "df_cat = pd.DataFrame(ohe.fit_transform(df[cat_columns]),\n",
    "                           columns=new_cat_columns, index=df.index)\n",
    "\n",
    "# Replace training columns with transformed versions\n",
    "ohe_df = pd.concat([df.drop(cat_columns, axis=1), df_cat], axis=1)\n",
    "ohe_df"
   ]
  },
  {
   "cell_type": "code",
   "execution_count": 35,
   "metadata": {},
   "outputs": [
    {
     "name": "stdout",
     "output_type": "stream",
     "text": [
      "<class 'pandas.core.frame.DataFrame'>\n",
      "RangeIndex: 21597 entries, 0 to 21596\n",
      "Data columns (total 65 columns):\n",
      " #   Column          Non-Null Count  Dtype  \n",
      "---  ------          --------------  -----  \n",
      " 0   id              21597 non-null  int64  \n",
      " 1   date            21597 non-null  object \n",
      " 2   price           21597 non-null  float64\n",
      " 3   sqft_living     21597 non-null  int64  \n",
      " 4   sqft_lot        21597 non-null  int64  \n",
      " 5   waterfront      19221 non-null  object \n",
      " 6   view            21534 non-null  object \n",
      " 7   condition       21597 non-null  int64  \n",
      " 8   grade           21597 non-null  float64\n",
      " 9   sqft_above      21597 non-null  int64  \n",
      " 10  sqft_basement   21597 non-null  float64\n",
      " 11  yr_built        21597 non-null  int64  \n",
      " 12  yr_renovated    17755 non-null  float64\n",
      " 13  zipcode         21597 non-null  int64  \n",
      " 14  lat             21597 non-null  float64\n",
      " 15  long            21597 non-null  float64\n",
      " 16  sqft_living15   21597 non-null  int64  \n",
      " 17  sqft_lot15      21597 non-null  int64  \n",
      " 18  bedrooms_1      21597 non-null  float64\n",
      " 19  bedrooms_2      21597 non-null  float64\n",
      " 20  bedrooms_3      21597 non-null  float64\n",
      " 21  bedrooms_4      21597 non-null  float64\n",
      " 22  bedrooms_5      21597 non-null  float64\n",
      " 23  bedrooms_6      21597 non-null  float64\n",
      " 24  bedrooms_7      21597 non-null  float64\n",
      " 25  bedrooms_8      21597 non-null  float64\n",
      " 26  bedrooms_9      21597 non-null  float64\n",
      " 27  bedrooms_10     21597 non-null  float64\n",
      " 28  bedrooms_11     21597 non-null  float64\n",
      " 29  bedrooms_33     21597 non-null  float64\n",
      " 30  bathrooms_0.5   21597 non-null  float64\n",
      " 31  bathrooms_0.75  21597 non-null  float64\n",
      " 32  bathrooms_1.0   21597 non-null  float64\n",
      " 33  bathrooms_1.25  21597 non-null  float64\n",
      " 34  bathrooms_1.5   21597 non-null  float64\n",
      " 35  bathrooms_1.75  21597 non-null  float64\n",
      " 36  bathrooms_2.0   21597 non-null  float64\n",
      " 37  bathrooms_2.25  21597 non-null  float64\n",
      " 38  bathrooms_2.5   21597 non-null  float64\n",
      " 39  bathrooms_2.75  21597 non-null  float64\n",
      " 40  bathrooms_3.0   21597 non-null  float64\n",
      " 41  bathrooms_3.25  21597 non-null  float64\n",
      " 42  bathrooms_3.5   21597 non-null  float64\n",
      " 43  bathrooms_3.75  21597 non-null  float64\n",
      " 44  bathrooms_4.0   21597 non-null  float64\n",
      " 45  bathrooms_4.25  21597 non-null  float64\n",
      " 46  bathrooms_4.5   21597 non-null  float64\n",
      " 47  bathrooms_4.75  21597 non-null  float64\n",
      " 48  bathrooms_5.0   21597 non-null  float64\n",
      " 49  bathrooms_5.25  21597 non-null  float64\n",
      " 50  bathrooms_5.5   21597 non-null  float64\n",
      " 51  bathrooms_5.75  21597 non-null  float64\n",
      " 52  bathrooms_6.0   21597 non-null  float64\n",
      " 53  bathrooms_6.25  21597 non-null  float64\n",
      " 54  bathrooms_6.5   21597 non-null  float64\n",
      " 55  bathrooms_6.75  21597 non-null  float64\n",
      " 56  bathrooms_7.5   21597 non-null  float64\n",
      " 57  bathrooms_7.75  21597 non-null  float64\n",
      " 58  bathrooms_8.0   21597 non-null  float64\n",
      " 59  floors_1.0      21597 non-null  float64\n",
      " 60  floors_1.5      21597 non-null  float64\n",
      " 61  floors_2.0      21597 non-null  float64\n",
      " 62  floors_2.5      21597 non-null  float64\n",
      " 63  floors_3.0      21597 non-null  float64\n",
      " 64  floors_3.5      21597 non-null  float64\n",
      "dtypes: float64(53), int64(9), object(3)\n",
      "memory usage: 10.7+ MB\n"
     ]
    }
   ],
   "source": [
    "ohe_df.info()"
   ]
  },
  {
   "cell_type": "markdown",
   "metadata": {},
   "source": [
    "## Ohe Linear Regression Model\n",
    "We are ready now for our first linear regression model!\n",
    "Let us run it, and we are going to keep all the possible variables, with only the essential exceptions.\n",
    "We are going to be excluding view and waterfront, since they have a lot of missing values therefore they describe a small part of the data anyway. \n",
    "The variables date, year renovated, zipcode, latitude and longitude are numerical but because of their particular meaning I am going to treat them separately later on to do a more in depth analysis about them."
   ]
  },
  {
   "cell_type": "code",
   "execution_count": 36,
   "metadata": {},
   "outputs": [
    {
     "data": {
      "text/plain": [
       "LinearRegression()"
      ]
     },
     "execution_count": 36,
     "metadata": {},
     "output_type": "execute_result"
    }
   ],
   "source": [
    "y=ohe_df['price']\n",
    "X=ohe_df.drop(['price', 'date','view', 'waterfront','yr_renovated'], axis=1)\n",
    "\n",
    "linreg= LinearRegression()\n",
    "linreg.fit(X,y)"
   ]
  },
  {
   "cell_type": "code",
   "execution_count": 37,
   "metadata": {},
   "outputs": [
    {
     "data": {
      "text/plain": [
       "Index(['id', 'sqft_living', 'sqft_lot', 'condition', 'grade', 'sqft_above',\n",
       "       'sqft_basement', 'yr_built', 'zipcode', 'lat', 'long', 'sqft_living15',\n",
       "       'sqft_lot15', 'bedrooms_1', 'bedrooms_2', 'bedrooms_3', 'bedrooms_4',\n",
       "       'bedrooms_5', 'bedrooms_6', 'bedrooms_7', 'bedrooms_8', 'bedrooms_9',\n",
       "       'bedrooms_10', 'bedrooms_11', 'bedrooms_33', 'bathrooms_0.5',\n",
       "       'bathrooms_0.75', 'bathrooms_1.0', 'bathrooms_1.25', 'bathrooms_1.5',\n",
       "       'bathrooms_1.75', 'bathrooms_2.0', 'bathrooms_2.25', 'bathrooms_2.5',\n",
       "       'bathrooms_2.75', 'bathrooms_3.0', 'bathrooms_3.25', 'bathrooms_3.5',\n",
       "       'bathrooms_3.75', 'bathrooms_4.0', 'bathrooms_4.25', 'bathrooms_4.5',\n",
       "       'bathrooms_4.75', 'bathrooms_5.0', 'bathrooms_5.25', 'bathrooms_5.5',\n",
       "       'bathrooms_5.75', 'bathrooms_6.0', 'bathrooms_6.25', 'bathrooms_6.5',\n",
       "       'bathrooms_6.75', 'bathrooms_7.5', 'bathrooms_7.75', 'bathrooms_8.0',\n",
       "       'floors_1.0', 'floors_1.5', 'floors_2.0', 'floors_2.5', 'floors_3.0',\n",
       "       'floors_3.5'],\n",
       "      dtype='object')"
      ]
     },
     "execution_count": 37,
     "metadata": {},
     "output_type": "execute_result"
    }
   ],
   "source": [
    "X.columns"
   ]
  },
  {
   "cell_type": "code",
   "execution_count": 38,
   "metadata": {},
   "outputs": [
    {
     "data": {
      "text/plain": [
       "array([-5.36248525e-07,  1.06693037e+02,  1.35748564e-01,  3.14998445e+04,\n",
       "        1.06062649e+05,  4.32722770e+01,  5.47558378e+01, -2.59490617e+03,\n",
       "       -5.07543884e+02,  5.37042514e+05, -2.08840126e+05,  5.86664374e+01,\n",
       "       -4.14957402e-01,  1.68717027e+05,  1.43600071e+05,  1.00919696e+05,\n",
       "        5.81036713e+04,  4.38533242e+04, -2.83108801e+04, -1.98471683e+05,\n",
       "        1.63685601e+04, -1.67869177e+05, -1.91647291e+05, -1.44225321e+05,\n",
       "        1.98949096e+05, -5.95176542e+05, -4.40985200e+05, -5.22117425e+05,\n",
       "       -4.34264829e+05, -5.37610991e+05, -5.42747522e+05, -5.29768169e+05,\n",
       "       -5.38876150e+05, -5.47528585e+05, -5.34386709e+05, -5.01304562e+05,\n",
       "       -4.18962527e+05, -4.59121838e+05, -3.18308014e+05, -3.21092294e+05,\n",
       "       -1.91871819e+05, -2.75596935e+05,  1.27033455e+05, -1.47498474e+04,\n",
       "        8.87696939e+04,  4.34214139e+05,  3.24664778e+05,  8.55663307e+05,\n",
       "        5.29525226e+05, -2.84304569e+05,  3.91372879e+05, -4.86121038e+05,\n",
       "        4.07829061e+06,  1.66538601e+06, -7.80252283e+04, -6.59671653e+04,\n",
       "       -5.54746069e+04,  6.87812073e+04,  2.72411377e+03,  1.27966048e+05])"
      ]
     },
     "execution_count": 38,
     "metadata": {},
     "output_type": "execute_result"
    }
   ],
   "source": [
    "linreg.coef_"
   ]
  },
  {
   "cell_type": "code",
   "execution_count": 39,
   "metadata": {},
   "outputs": [
    {
     "data": {
      "text/plain": [
       "3522541.8527685367"
      ]
     },
     "execution_count": 39,
     "metadata": {},
     "output_type": "execute_result"
    }
   ],
   "source": [
    "linreg.intercept_"
   ]
  },
  {
   "cell_type": "code",
   "execution_count": 40,
   "metadata": {},
   "outputs": [
    {
     "data": {
      "text/plain": [
       "0.6924192582691565"
      ]
     },
     "execution_count": 40,
     "metadata": {},
     "output_type": "execute_result"
    }
   ],
   "source": [
    "metrics.r2_score(y,linreg.predict(X))"
   ]
  },
  {
   "cell_type": "markdown",
   "metadata": {},
   "source": [
    "Running the same model but with statsmodel"
   ]
  },
  {
   "cell_type": "code",
   "execution_count": 92,
   "metadata": {},
   "outputs": [
    {
     "data": {
      "text/html": [
       "<table class=\"simpletable\">\n",
       "<caption>OLS Regression Results</caption>\n",
       "<tr>\n",
       "  <th>Dep. Variable:</th>          <td>price</td>      <th>  R-squared:         </th>  <td>   0.692</td>  \n",
       "</tr>\n",
       "<tr>\n",
       "  <th>Model:</th>                   <td>OLS</td>       <th>  Adj. R-squared:    </th>  <td>   0.692</td>  \n",
       "</tr>\n",
       "<tr>\n",
       "  <th>Method:</th>             <td>Least Squares</td>  <th>  F-statistic:       </th>  <td>   850.7</td>  \n",
       "</tr>\n",
       "<tr>\n",
       "  <th>Date:</th>             <td>Wed, 02 Nov 2022</td> <th>  Prob (F-statistic):</th>   <td>  0.00</td>   \n",
       "</tr>\n",
       "<tr>\n",
       "  <th>Time:</th>                 <td>10:37:24</td>     <th>  Log-Likelihood:    </th> <td>-2.9466e+05</td>\n",
       "</tr>\n",
       "<tr>\n",
       "  <th>No. Observations:</th>      <td> 21597</td>      <th>  AIC:               </th>  <td>5.894e+05</td> \n",
       "</tr>\n",
       "<tr>\n",
       "  <th>Df Residuals:</th>          <td> 21539</td>      <th>  BIC:               </th>  <td>5.899e+05</td> \n",
       "</tr>\n",
       "<tr>\n",
       "  <th>Df Model:</th>              <td>    57</td>      <th>                     </th>      <td> </td>     \n",
       "</tr>\n",
       "<tr>\n",
       "  <th>Covariance Type:</th>      <td>nonrobust</td>    <th>                     </th>      <td> </td>     \n",
       "</tr>\n",
       "</table>\n",
       "<table class=\"simpletable\">\n",
       "<tr>\n",
       "         <td></td>           <th>coef</th>     <th>std err</th>      <th>t</th>      <th>P>|t|</th>  <th>[0.025</th>    <th>0.975]</th>  \n",
       "</tr>\n",
       "<tr>\n",
       "  <th>id</th>             <td>-5.362e-07</td> <td>  4.9e-07</td> <td>   -1.094</td> <td> 0.274</td> <td> -1.5e-06</td> <td> 4.24e-07</td>\n",
       "</tr>\n",
       "<tr>\n",
       "  <th>sqft_living</th>    <td>  106.6930</td> <td>   18.390</td> <td>    5.802</td> <td> 0.000</td> <td>   70.647</td> <td>  142.739</td>\n",
       "</tr>\n",
       "<tr>\n",
       "  <th>sqft_lot</th>       <td>    0.1357</td> <td>    0.049</td> <td>    2.785</td> <td> 0.005</td> <td>    0.040</td> <td>    0.231</td>\n",
       "</tr>\n",
       "<tr>\n",
       "  <th>condition</th>      <td>  3.15e+04</td> <td> 2374.667</td> <td>   13.265</td> <td> 0.000</td> <td> 2.68e+04</td> <td> 3.62e+04</td>\n",
       "</tr>\n",
       "<tr>\n",
       "  <th>grade</th>          <td> 1.061e+05</td> <td> 2212.437</td> <td>   47.939</td> <td> 0.000</td> <td> 1.02e+05</td> <td>  1.1e+05</td>\n",
       "</tr>\n",
       "<tr>\n",
       "  <th>sqft_above</th>     <td>   43.2723</td> <td>   18.404</td> <td>    2.351</td> <td> 0.019</td> <td>    7.198</td> <td>   79.346</td>\n",
       "</tr>\n",
       "<tr>\n",
       "  <th>sqft_basement</th>  <td>   54.7558</td> <td>   18.211</td> <td>    3.007</td> <td> 0.003</td> <td>   19.062</td> <td>   90.450</td>\n",
       "</tr>\n",
       "<tr>\n",
       "  <th>yr_built</th>       <td>-2594.9065</td> <td>   77.045</td> <td>  -33.680</td> <td> 0.000</td> <td>-2745.921</td> <td>-2443.892</td>\n",
       "</tr>\n",
       "<tr>\n",
       "  <th>zipcode</th>        <td> -507.5441</td> <td>   33.464</td> <td>  -15.167</td> <td> 0.000</td> <td> -573.136</td> <td> -441.952</td>\n",
       "</tr>\n",
       "<tr>\n",
       "  <th>lat</th>            <td>  5.37e+05</td> <td> 1.09e+04</td> <td>   49.203</td> <td> 0.000</td> <td> 5.16e+05</td> <td> 5.58e+05</td>\n",
       "</tr>\n",
       "<tr>\n",
       "  <th>long</th>           <td>-2.088e+05</td> <td> 1.35e+04</td> <td>  -15.501</td> <td> 0.000</td> <td>-2.35e+05</td> <td>-1.82e+05</td>\n",
       "</tr>\n",
       "<tr>\n",
       "  <th>sqft_living15</th>  <td>   58.6665</td> <td>    3.525</td> <td>   16.642</td> <td> 0.000</td> <td>   51.757</td> <td>   65.576</td>\n",
       "</tr>\n",
       "<tr>\n",
       "  <th>sqft_lot15</th>     <td>   -0.4150</td> <td>    0.075</td> <td>   -5.548</td> <td> 0.000</td> <td>   -0.562</td> <td>   -0.268</td>\n",
       "</tr>\n",
       "<tr>\n",
       "  <th>bedrooms_1</th>     <td> 1.201e+06</td> <td> 8.74e+05</td> <td>    1.374</td> <td> 0.170</td> <td>-5.13e+05</td> <td> 2.91e+06</td>\n",
       "</tr>\n",
       "<tr>\n",
       "  <th>bedrooms_2</th>     <td> 1.175e+06</td> <td> 8.74e+05</td> <td>    1.345</td> <td> 0.179</td> <td>-5.38e+05</td> <td> 2.89e+06</td>\n",
       "</tr>\n",
       "<tr>\n",
       "  <th>bedrooms_3</th>     <td> 1.133e+06</td> <td> 8.74e+05</td> <td>    1.297</td> <td> 0.195</td> <td> -5.8e+05</td> <td> 2.85e+06</td>\n",
       "</tr>\n",
       "<tr>\n",
       "  <th>bedrooms_4</th>     <td>  1.09e+06</td> <td> 8.74e+05</td> <td>    1.248</td> <td> 0.212</td> <td>-6.23e+05</td> <td>  2.8e+06</td>\n",
       "</tr>\n",
       "<tr>\n",
       "  <th>bedrooms_5</th>     <td> 1.076e+06</td> <td> 8.74e+05</td> <td>    1.231</td> <td> 0.218</td> <td>-6.37e+05</td> <td> 2.79e+06</td>\n",
       "</tr>\n",
       "<tr>\n",
       "  <th>bedrooms_6</th>     <td> 1.004e+06</td> <td> 8.74e+05</td> <td>    1.149</td> <td> 0.251</td> <td>-7.09e+05</td> <td> 2.72e+06</td>\n",
       "</tr>\n",
       "<tr>\n",
       "  <th>bedrooms_7</th>     <td> 8.334e+05</td> <td> 8.74e+05</td> <td>    0.953</td> <td> 0.340</td> <td> -8.8e+05</td> <td> 2.55e+06</td>\n",
       "</tr>\n",
       "<tr>\n",
       "  <th>bedrooms_8</th>     <td> 1.048e+06</td> <td> 8.75e+05</td> <td>    1.198</td> <td> 0.231</td> <td>-6.67e+05</td> <td> 2.76e+06</td>\n",
       "</tr>\n",
       "<tr>\n",
       "  <th>bedrooms_9</th>     <td>  8.64e+05</td> <td> 8.77e+05</td> <td>    0.986</td> <td> 0.324</td> <td>-8.54e+05</td> <td> 2.58e+06</td>\n",
       "</tr>\n",
       "<tr>\n",
       "  <th>bedrooms_10</th>    <td> 8.402e+05</td> <td> 8.79e+05</td> <td>    0.956</td> <td> 0.339</td> <td>-8.83e+05</td> <td> 2.56e+06</td>\n",
       "</tr>\n",
       "<tr>\n",
       "  <th>bedrooms_11</th>    <td> 8.876e+05</td> <td> 8.93e+05</td> <td>    0.994</td> <td> 0.320</td> <td>-8.63e+05</td> <td> 2.64e+06</td>\n",
       "</tr>\n",
       "<tr>\n",
       "  <th>bedrooms_33</th>    <td> 1.231e+06</td> <td> 8.95e+05</td> <td>    1.375</td> <td> 0.169</td> <td>-5.23e+05</td> <td> 2.99e+06</td>\n",
       "</tr>\n",
       "<tr>\n",
       "  <th>bathrooms_0.5</th>  <td>-1.682e+05</td> <td> 3.75e+05</td> <td>   -0.448</td> <td> 0.654</td> <td>-9.04e+05</td> <td> 5.67e+05</td>\n",
       "</tr>\n",
       "<tr>\n",
       "  <th>bathrooms_0.75</th> <td>-1.401e+04</td> <td> 3.62e+05</td> <td>   -0.039</td> <td> 0.969</td> <td>-7.24e+05</td> <td> 6.96e+05</td>\n",
       "</tr>\n",
       "<tr>\n",
       "  <th>bathrooms_1.0</th>  <td>-9.514e+04</td> <td> 3.62e+05</td> <td>   -0.263</td> <td> 0.792</td> <td>-8.04e+05</td> <td> 6.13e+05</td>\n",
       "</tr>\n",
       "<tr>\n",
       "  <th>bathrooms_1.25</th> <td>-7290.2673</td> <td> 3.68e+05</td> <td>   -0.020</td> <td> 0.984</td> <td>-7.28e+05</td> <td> 7.13e+05</td>\n",
       "</tr>\n",
       "<tr>\n",
       "  <th>bathrooms_1.5</th>  <td>-1.106e+05</td> <td> 3.61e+05</td> <td>   -0.306</td> <td> 0.760</td> <td>-8.19e+05</td> <td> 5.98e+05</td>\n",
       "</tr>\n",
       "<tr>\n",
       "  <th>bathrooms_1.75</th> <td>-1.158e+05</td> <td> 3.61e+05</td> <td>   -0.320</td> <td> 0.749</td> <td>-8.24e+05</td> <td> 5.93e+05</td>\n",
       "</tr>\n",
       "<tr>\n",
       "  <th>bathrooms_2.0</th>  <td>-1.028e+05</td> <td> 3.61e+05</td> <td>   -0.284</td> <td> 0.776</td> <td>-8.11e+05</td> <td> 6.06e+05</td>\n",
       "</tr>\n",
       "<tr>\n",
       "  <th>bathrooms_2.25</th> <td>-1.119e+05</td> <td> 3.61e+05</td> <td>   -0.310</td> <td> 0.757</td> <td> -8.2e+05</td> <td> 5.96e+05</td>\n",
       "</tr>\n",
       "<tr>\n",
       "  <th>bathrooms_2.5</th>  <td>-1.206e+05</td> <td> 3.61e+05</td> <td>   -0.334</td> <td> 0.739</td> <td>-8.29e+05</td> <td> 5.88e+05</td>\n",
       "</tr>\n",
       "<tr>\n",
       "  <th>bathrooms_2.75</th> <td>-1.074e+05</td> <td> 3.61e+05</td> <td>   -0.297</td> <td> 0.766</td> <td>-8.16e+05</td> <td> 6.01e+05</td>\n",
       "</tr>\n",
       "<tr>\n",
       "  <th>bathrooms_3.0</th>  <td>-7.433e+04</td> <td> 3.62e+05</td> <td>   -0.206</td> <td> 0.837</td> <td>-7.83e+05</td> <td> 6.35e+05</td>\n",
       "</tr>\n",
       "<tr>\n",
       "  <th>bathrooms_3.25</th> <td> 8012.9237</td> <td> 3.62e+05</td> <td>    0.022</td> <td> 0.982</td> <td>-7.01e+05</td> <td> 7.17e+05</td>\n",
       "</tr>\n",
       "<tr>\n",
       "  <th>bathrooms_3.5</th>  <td>-3.215e+04</td> <td> 3.62e+05</td> <td>   -0.089</td> <td> 0.929</td> <td>-7.41e+05</td> <td> 6.77e+05</td>\n",
       "</tr>\n",
       "<tr>\n",
       "  <th>bathrooms_3.75</th> <td> 1.087e+05</td> <td> 3.62e+05</td> <td>    0.300</td> <td> 0.764</td> <td>-6.01e+05</td> <td> 8.18e+05</td>\n",
       "</tr>\n",
       "<tr>\n",
       "  <th>bathrooms_4.0</th>  <td> 1.059e+05</td> <td> 3.62e+05</td> <td>    0.292</td> <td> 0.770</td> <td>-6.04e+05</td> <td> 8.15e+05</td>\n",
       "</tr>\n",
       "<tr>\n",
       "  <th>bathrooms_4.25</th> <td> 2.351e+05</td> <td> 3.62e+05</td> <td>    0.649</td> <td> 0.516</td> <td>-4.75e+05</td> <td> 9.45e+05</td>\n",
       "</tr>\n",
       "<tr>\n",
       "  <th>bathrooms_4.5</th>  <td> 1.514e+05</td> <td> 3.62e+05</td> <td>    0.418</td> <td> 0.676</td> <td>-5.58e+05</td> <td> 8.61e+05</td>\n",
       "</tr>\n",
       "<tr>\n",
       "  <th>bathrooms_4.75</th> <td>  5.54e+05</td> <td> 3.64e+05</td> <td>    1.523</td> <td> 0.128</td> <td>-1.59e+05</td> <td> 1.27e+06</td>\n",
       "</tr>\n",
       "<tr>\n",
       "  <th>bathrooms_5.0</th>  <td> 4.122e+05</td> <td> 3.64e+05</td> <td>    1.133</td> <td> 0.257</td> <td>-3.01e+05</td> <td> 1.13e+06</td>\n",
       "</tr>\n",
       "<tr>\n",
       "  <th>bathrooms_5.25</th> <td> 5.157e+05</td> <td> 3.65e+05</td> <td>    1.411</td> <td> 0.158</td> <td>-2.01e+05</td> <td> 1.23e+06</td>\n",
       "</tr>\n",
       "<tr>\n",
       "  <th>bathrooms_5.5</th>  <td> 8.612e+05</td> <td> 3.67e+05</td> <td>    2.346</td> <td> 0.019</td> <td> 1.42e+05</td> <td> 1.58e+06</td>\n",
       "</tr>\n",
       "<tr>\n",
       "  <th>bathrooms_5.75</th> <td> 7.516e+05</td> <td> 3.75e+05</td> <td>    2.003</td> <td> 0.045</td> <td>  1.6e+04</td> <td> 1.49e+06</td>\n",
       "</tr>\n",
       "<tr>\n",
       "  <th>bathrooms_6.0</th>  <td> 1.283e+06</td> <td>  3.7e+05</td> <td>    3.468</td> <td> 0.001</td> <td> 5.58e+05</td> <td> 2.01e+06</td>\n",
       "</tr>\n",
       "<tr>\n",
       "  <th>bathrooms_6.25</th> <td> 9.565e+05</td> <td> 3.89e+05</td> <td>    2.458</td> <td> 0.014</td> <td> 1.94e+05</td> <td> 1.72e+06</td>\n",
       "</tr>\n",
       "<tr>\n",
       "  <th>bathrooms_6.5</th>  <td> 1.427e+05</td> <td> 3.87e+05</td> <td>    0.368</td> <td> 0.713</td> <td>-6.16e+05</td> <td> 9.02e+05</td>\n",
       "</tr>\n",
       "<tr>\n",
       "  <th>bathrooms_6.75</th> <td> 8.183e+05</td> <td> 3.88e+05</td> <td>    2.110</td> <td> 0.035</td> <td> 5.83e+04</td> <td> 1.58e+06</td>\n",
       "</tr>\n",
       "<tr>\n",
       "  <th>bathrooms_7.5</th>  <td>-5.915e+04</td> <td> 4.25e+05</td> <td>   -0.139</td> <td> 0.889</td> <td>-8.91e+05</td> <td> 7.73e+05</td>\n",
       "</tr>\n",
       "<tr>\n",
       "  <th>bathrooms_7.75</th> <td> 4.505e+06</td> <td> 4.13e+05</td> <td>   10.897</td> <td> 0.000</td> <td> 3.69e+06</td> <td> 5.32e+06</td>\n",
       "</tr>\n",
       "<tr>\n",
       "  <th>bathrooms_8.0</th>  <td> 2.092e+06</td> <td> 3.88e+05</td> <td>    5.389</td> <td> 0.000</td> <td> 1.33e+06</td> <td> 2.85e+06</td>\n",
       "</tr>\n",
       "<tr>\n",
       "  <th>floors_1.0</th>     <td> 1.986e+06</td> <td> 1.75e+06</td> <td>    1.138</td> <td> 0.255</td> <td>-1.44e+06</td> <td> 5.41e+06</td>\n",
       "</tr>\n",
       "<tr>\n",
       "  <th>floors_1.5</th>     <td> 1.998e+06</td> <td> 1.75e+06</td> <td>    1.144</td> <td> 0.253</td> <td>-1.42e+06</td> <td> 5.42e+06</td>\n",
       "</tr>\n",
       "<tr>\n",
       "  <th>floors_2.0</th>     <td> 2.008e+06</td> <td> 1.75e+06</td> <td>    1.150</td> <td> 0.250</td> <td>-1.41e+06</td> <td> 5.43e+06</td>\n",
       "</tr>\n",
       "<tr>\n",
       "  <th>floors_2.5</th>     <td> 2.132e+06</td> <td> 1.75e+06</td> <td>    1.221</td> <td> 0.222</td> <td>-1.29e+06</td> <td> 5.56e+06</td>\n",
       "</tr>\n",
       "<tr>\n",
       "  <th>floors_3.0</th>     <td> 2.066e+06</td> <td> 1.75e+06</td> <td>    1.183</td> <td> 0.237</td> <td>-1.36e+06</td> <td> 5.49e+06</td>\n",
       "</tr>\n",
       "<tr>\n",
       "  <th>floors_3.5</th>     <td> 2.192e+06</td> <td> 1.75e+06</td> <td>    1.253</td> <td> 0.210</td> <td>-1.24e+06</td> <td> 5.62e+06</td>\n",
       "</tr>\n",
       "</table>\n",
       "<table class=\"simpletable\">\n",
       "<tr>\n",
       "  <th>Omnibus:</th>       <td>15725.582</td> <th>  Durbin-Watson:     </th>  <td>   2.000</td>  \n",
       "</tr>\n",
       "<tr>\n",
       "  <th>Prob(Omnibus):</th>  <td> 0.000</td>   <th>  Jarque-Bera (JB):  </th> <td>1037917.498</td>\n",
       "</tr>\n",
       "<tr>\n",
       "  <th>Skew:</th>           <td> 2.887</td>   <th>  Prob(JB):          </th>  <td>    0.00</td>  \n",
       "</tr>\n",
       "<tr>\n",
       "  <th>Kurtosis:</th>       <td>36.467</td>   <th>  Cond. No.          </th>  <td>1.00e+16</td>  \n",
       "</tr>\n",
       "</table><br/><br/>Notes:<br/>[1] Standard Errors assume that the covariance matrix of the errors is correctly specified.<br/>[2] The condition number is large,  1e+16. This might indicate that there are<br/>strong multicollinearity or other numerical problems."
      ],
      "text/plain": [
       "<class 'statsmodels.iolib.summary.Summary'>\n",
       "\"\"\"\n",
       "                            OLS Regression Results                            \n",
       "==============================================================================\n",
       "Dep. Variable:                  price   R-squared:                       0.692\n",
       "Model:                            OLS   Adj. R-squared:                  0.692\n",
       "Method:                 Least Squares   F-statistic:                     850.7\n",
       "Date:                Wed, 02 Nov 2022   Prob (F-statistic):               0.00\n",
       "Time:                        10:37:24   Log-Likelihood:            -2.9466e+05\n",
       "No. Observations:               21597   AIC:                         5.894e+05\n",
       "Df Residuals:                   21539   BIC:                         5.899e+05\n",
       "Df Model:                          57                                         \n",
       "Covariance Type:            nonrobust                                         \n",
       "==================================================================================\n",
       "                     coef    std err          t      P>|t|      [0.025      0.975]\n",
       "----------------------------------------------------------------------------------\n",
       "id             -5.362e-07    4.9e-07     -1.094      0.274    -1.5e-06    4.24e-07\n",
       "sqft_living      106.6930     18.390      5.802      0.000      70.647     142.739\n",
       "sqft_lot           0.1357      0.049      2.785      0.005       0.040       0.231\n",
       "condition        3.15e+04   2374.667     13.265      0.000    2.68e+04    3.62e+04\n",
       "grade           1.061e+05   2212.437     47.939      0.000    1.02e+05     1.1e+05\n",
       "sqft_above        43.2723     18.404      2.351      0.019       7.198      79.346\n",
       "sqft_basement     54.7558     18.211      3.007      0.003      19.062      90.450\n",
       "yr_built       -2594.9065     77.045    -33.680      0.000   -2745.921   -2443.892\n",
       "zipcode         -507.5441     33.464    -15.167      0.000    -573.136    -441.952\n",
       "lat              5.37e+05   1.09e+04     49.203      0.000    5.16e+05    5.58e+05\n",
       "long           -2.088e+05   1.35e+04    -15.501      0.000   -2.35e+05   -1.82e+05\n",
       "sqft_living15     58.6665      3.525     16.642      0.000      51.757      65.576\n",
       "sqft_lot15        -0.4150      0.075     -5.548      0.000      -0.562      -0.268\n",
       "bedrooms_1      1.201e+06   8.74e+05      1.374      0.170   -5.13e+05    2.91e+06\n",
       "bedrooms_2      1.175e+06   8.74e+05      1.345      0.179   -5.38e+05    2.89e+06\n",
       "bedrooms_3      1.133e+06   8.74e+05      1.297      0.195    -5.8e+05    2.85e+06\n",
       "bedrooms_4       1.09e+06   8.74e+05      1.248      0.212   -6.23e+05     2.8e+06\n",
       "bedrooms_5      1.076e+06   8.74e+05      1.231      0.218   -6.37e+05    2.79e+06\n",
       "bedrooms_6      1.004e+06   8.74e+05      1.149      0.251   -7.09e+05    2.72e+06\n",
       "bedrooms_7      8.334e+05   8.74e+05      0.953      0.340    -8.8e+05    2.55e+06\n",
       "bedrooms_8      1.048e+06   8.75e+05      1.198      0.231   -6.67e+05    2.76e+06\n",
       "bedrooms_9       8.64e+05   8.77e+05      0.986      0.324   -8.54e+05    2.58e+06\n",
       "bedrooms_10     8.402e+05   8.79e+05      0.956      0.339   -8.83e+05    2.56e+06\n",
       "bedrooms_11     8.876e+05   8.93e+05      0.994      0.320   -8.63e+05    2.64e+06\n",
       "bedrooms_33     1.231e+06   8.95e+05      1.375      0.169   -5.23e+05    2.99e+06\n",
       "bathrooms_0.5  -1.682e+05   3.75e+05     -0.448      0.654   -9.04e+05    5.67e+05\n",
       "bathrooms_0.75 -1.401e+04   3.62e+05     -0.039      0.969   -7.24e+05    6.96e+05\n",
       "bathrooms_1.0  -9.514e+04   3.62e+05     -0.263      0.792   -8.04e+05    6.13e+05\n",
       "bathrooms_1.25 -7290.2673   3.68e+05     -0.020      0.984   -7.28e+05    7.13e+05\n",
       "bathrooms_1.5  -1.106e+05   3.61e+05     -0.306      0.760   -8.19e+05    5.98e+05\n",
       "bathrooms_1.75 -1.158e+05   3.61e+05     -0.320      0.749   -8.24e+05    5.93e+05\n",
       "bathrooms_2.0  -1.028e+05   3.61e+05     -0.284      0.776   -8.11e+05    6.06e+05\n",
       "bathrooms_2.25 -1.119e+05   3.61e+05     -0.310      0.757    -8.2e+05    5.96e+05\n",
       "bathrooms_2.5  -1.206e+05   3.61e+05     -0.334      0.739   -8.29e+05    5.88e+05\n",
       "bathrooms_2.75 -1.074e+05   3.61e+05     -0.297      0.766   -8.16e+05    6.01e+05\n",
       "bathrooms_3.0  -7.433e+04   3.62e+05     -0.206      0.837   -7.83e+05    6.35e+05\n",
       "bathrooms_3.25  8012.9237   3.62e+05      0.022      0.982   -7.01e+05    7.17e+05\n",
       "bathrooms_3.5  -3.215e+04   3.62e+05     -0.089      0.929   -7.41e+05    6.77e+05\n",
       "bathrooms_3.75  1.087e+05   3.62e+05      0.300      0.764   -6.01e+05    8.18e+05\n",
       "bathrooms_4.0   1.059e+05   3.62e+05      0.292      0.770   -6.04e+05    8.15e+05\n",
       "bathrooms_4.25  2.351e+05   3.62e+05      0.649      0.516   -4.75e+05    9.45e+05\n",
       "bathrooms_4.5   1.514e+05   3.62e+05      0.418      0.676   -5.58e+05    8.61e+05\n",
       "bathrooms_4.75   5.54e+05   3.64e+05      1.523      0.128   -1.59e+05    1.27e+06\n",
       "bathrooms_5.0   4.122e+05   3.64e+05      1.133      0.257   -3.01e+05    1.13e+06\n",
       "bathrooms_5.25  5.157e+05   3.65e+05      1.411      0.158   -2.01e+05    1.23e+06\n",
       "bathrooms_5.5   8.612e+05   3.67e+05      2.346      0.019    1.42e+05    1.58e+06\n",
       "bathrooms_5.75  7.516e+05   3.75e+05      2.003      0.045     1.6e+04    1.49e+06\n",
       "bathrooms_6.0   1.283e+06    3.7e+05      3.468      0.001    5.58e+05    2.01e+06\n",
       "bathrooms_6.25  9.565e+05   3.89e+05      2.458      0.014    1.94e+05    1.72e+06\n",
       "bathrooms_6.5   1.427e+05   3.87e+05      0.368      0.713   -6.16e+05    9.02e+05\n",
       "bathrooms_6.75  8.183e+05   3.88e+05      2.110      0.035    5.83e+04    1.58e+06\n",
       "bathrooms_7.5  -5.915e+04   4.25e+05     -0.139      0.889   -8.91e+05    7.73e+05\n",
       "bathrooms_7.75  4.505e+06   4.13e+05     10.897      0.000    3.69e+06    5.32e+06\n",
       "bathrooms_8.0   2.092e+06   3.88e+05      5.389      0.000    1.33e+06    2.85e+06\n",
       "floors_1.0      1.986e+06   1.75e+06      1.138      0.255   -1.44e+06    5.41e+06\n",
       "floors_1.5      1.998e+06   1.75e+06      1.144      0.253   -1.42e+06    5.42e+06\n",
       "floors_2.0      2.008e+06   1.75e+06      1.150      0.250   -1.41e+06    5.43e+06\n",
       "floors_2.5      2.132e+06   1.75e+06      1.221      0.222   -1.29e+06    5.56e+06\n",
       "floors_3.0      2.066e+06   1.75e+06      1.183      0.237   -1.36e+06    5.49e+06\n",
       "floors_3.5      2.192e+06   1.75e+06      1.253      0.210   -1.24e+06    5.62e+06\n",
       "==============================================================================\n",
       "Omnibus:                    15725.582   Durbin-Watson:                   2.000\n",
       "Prob(Omnibus):                  0.000   Jarque-Bera (JB):          1037917.498\n",
       "Skew:                           2.887   Prob(JB):                         0.00\n",
       "Kurtosis:                      36.467   Cond. No.                     1.00e+16\n",
       "==============================================================================\n",
       "\n",
       "Notes:\n",
       "[1] Standard Errors assume that the covariance matrix of the errors is correctly specified.\n",
       "[2] The condition number is large,  1e+16. This might indicate that there are\n",
       "strong multicollinearity or other numerical problems.\n",
       "\"\"\""
      ]
     },
     "execution_count": 92,
     "metadata": {},
     "output_type": "execute_result"
    }
   ],
   "source": [
    "model = sm.OLS(y, X).fit()\n",
    "model.summary()"
   ]
  },
  {
   "cell_type": "markdown",
   "metadata": {},
   "source": [
    "Before doing a train-test split and doing cross validation for our model, let's try to improve the model increasing the R squared and once we have the best one we will run the cross validation too."
   ]
  },
  {
   "cell_type": "markdown",
   "metadata": {},
   "source": [
    "## Trying to improve my model\n",
    "We are going now to take several different steps to try to improve this first linear regression model.\n",
    "We already took care of the categorical variables with one hot encoding.\n",
    "Now it is time to work on the continuous ones, and we will first normalize them and then scale them, whenever necessary."
   ]
  },
  {
   "cell_type": "markdown",
   "metadata": {},
   "source": [
    "### Transforming the variables, normalizing and scaling them\n",
    "The easiest way to see this is by plotting histograms that can show us visually which variables are already pretty normalized and which ones would need a transformation and have heavy outliers."
   ]
  },
  {
   "cell_type": "markdown",
   "metadata": {},
   "source": [
    "The continuous variables on which I chose to focus on so far are: sqft_living, sqft_lot, sqft_above, sqft_basement, yr_built, sqftliving_15 and sqft_lot_15."
   ]
  },
  {
   "cell_type": "code",
   "execution_count": 93,
   "metadata": {},
   "outputs": [],
   "source": [
    "cols=['sqft_living', 'sqft_lot', 'sqft_above','sqft_basement', 'yr_built', 'sqft_living15',\n",
    "       'sqft_lot15']"
   ]
  },
  {
   "cell_type": "code",
   "execution_count": 98,
   "metadata": {},
   "outputs": [
    {
     "data": {
      "image/png": "[encoded data removed]",
      "text/plain": [
       "<Figure size 1080x864 with 9 Axes>"
      ]
     },
     "metadata": {
      "needs_background": "light"
     },
     "output_type": "display_data"
    }
   ],
   "source": [
    "df[cols].hist(figsize  = [15,12]); "
   ]
  },
  {
   "cell_type": "markdown",
   "metadata": {},
   "source": [
    "From what I can observe, squarefoot living, squarefoot lot, sqft above, sqft living 15 and squarefoot lot 15 probably have very heavy outliers, and could probably also beneficiate from logarythmic normalization.\n",
    "Bedrooms also probably has an outlier that might be cause by a typo.\n",
    "Sqft basement, Sqft lot and Sqft lot15 are also not following a normal distribution but they seem to be zero-inflated variables which is complicated to work with."
   ]
  },
  {
   "cell_type": "code",
   "execution_count": 194,
   "metadata": {},
   "outputs": [
    {
     "data": {
      "text/plain": [
       "0.0       0.614929\n",
       "600.0     0.010048\n",
       "500.0     0.009678\n",
       "700.0     0.009631\n",
       "800.0     0.009307\n",
       "            ...   \n",
       "915.0     0.000046\n",
       "295.0     0.000046\n",
       "1281.0    0.000046\n",
       "2130.0    0.000046\n",
       "906.0     0.000046\n",
       "Name: sqft_basement, Length: 303, dtype: float64"
      ]
     },
     "execution_count": 194,
     "metadata": {},
     "output_type": "execute_result"
    }
   ],
   "source": [
    "df['sqft_basement'].value_counts(normalize=True)"
   ]
  },
  {
   "cell_type": "markdown",
   "metadata": {},
   "source": [
    "As expected, there are a lot of zeros for these variables.\n",
    "It was probably classified this way when there is simply no basement in the house. But I also don't want to drop all the columns with no basement, since 13280 is a consistent number and I don't want to lose all of that information.\n",
    "<br>I will leave it as is for now and select the features which don't have this characteristic."
   ]
  },
  {
   "cell_type": "markdown",
   "metadata": {},
   "source": [
    "### Outliers\n",
    "<br>I want to inspect the bedroom variable and then we will move on to scaling."
   ]
  },
  {
   "cell_type": "code",
   "execution_count": null,
   "metadata": {},
   "outputs": [],
   "source": [
    "df['bedrooms'].value_counts()"
   ]
  },
  {
   "cell_type": "markdown",
   "metadata": {},
   "source": [
    "Yes, 33 seems like a typo so we will just remove that."
   ]
  },
  {
   "cell_type": "code",
   "execution_count": null,
   "metadata": {},
   "outputs": [],
   "source": [
    "df.drop(df.loc[df['bedrooms']==33].index, inplace=True) #let's remove it from our original data frame\n",
    "ohe_df.drop('bedrooms_33', axis=1, inplace=True)# and also form the one hot encoding one"
   ]
  },
  {
   "cell_type": "code",
   "execution_count": null,
   "metadata": {},
   "outputs": [],
   "source": [
    "df['bedrooms'].value_counts()"
   ]
  },
  {
   "cell_type": "markdown",
   "metadata": {},
   "source": [
    "### Transformations"
   ]
  },
  {
   "cell_type": "code",
   "execution_count": 222,
   "metadata": {},
   "outputs": [],
   "source": [
    "df_log=pd.DataFrame()\n",
    "non_normal = ['sqft_living', 'sqft_above', 'sqft_living15']\n",
    "for feat in non_normal:\n",
    "    df_log[feat] = df[feat].map(lambda x: np.log(x))\n",
    "df_log = df_log.add_suffix('_log')"
   ]
  },
  {
   "cell_type": "code",
   "execution_count": 223,
   "metadata": {},
   "outputs": [
    {
     "data": {
      "image/png": "[encoded data removed]",
      "text/plain": [
       "<Figure size 1080x1080 with 4 Axes>"
      ]
     },
     "metadata": {
      "needs_background": "light"
     },
     "output_type": "display_data"
    }
   ],
   "source": [
    "df_log.hist(figsize  = [15,15]); "
   ]
  },
  {
   "cell_type": "markdown",
   "metadata": {},
   "source": [
    "The values are a little more normal now. "
   ]
  },
  {
   "cell_type": "markdown",
   "metadata": {},
   "source": [
    "## Now I need to scale"
   ]
  },
  {
   "cell_type": "markdown",
   "metadata": {},
   "source": [
    "I am not certain whether min-max scaling or normalization is a better option. So I am going to try to transform all the variables with one and then the other, and see which one brins the better results."
   ]
  },
  {
   "cell_type": "markdown",
   "metadata": {},
   "source": [
    "### Min Max Scaling"
   ]
  },
  {
   "cell_type": "code",
   "execution_count": 224,
   "metadata": {},
   "outputs": [
    {
     "name": "stdout",
     "output_type": "stream",
     "text": [
      "<class 'pandas.core.frame.DataFrame'>\n",
      "Int64Index: 21596 entries, 0 to 21596\n",
      "Data columns (total 3 columns):\n",
      " #   Column             Non-Null Count  Dtype  \n",
      "---  ------             --------------  -----  \n",
      " 0   sqft_living_log    21596 non-null  float64\n",
      " 1   sqft_above_log     21596 non-null  float64\n",
      " 2   sqft_living15_log  21596 non-null  float64\n",
      "dtypes: float64(3)\n",
      "memory usage: 1.3 MB\n"
     ]
    }
   ],
   "source": [
    "df_log.info()"
   ]
  },
  {
   "cell_type": "code",
   "execution_count": 225,
   "metadata": {},
   "outputs": [
    {
     "data": {
      "image/png": "[encoded data removed]",
      "text/plain": [
       "<Figure size 864x864 with 4 Axes>"
      ]
     },
     "metadata": {
      "needs_background": "light"
     },
     "output_type": "display_data"
    }
   ],
   "source": [
    "sqll = df_log['sqft_living_log']\n",
    "sqal  = df_log['sqft_above_log']\n",
    "sq1v15 = df_log['sqft_living15_log']\n",
    "\n",
    "scaled_sqll = (sqll - min(sqll)) / (max(sqll) - min(sqll))\n",
    "scaled_sqal = (sqal - min(sqal)) / (max(sqal) - min(sqal))\n",
    "scaled_sq1v15 = (sq1v15 - min(sq1v15)) / (max(sq1v15) - min(sq1v15))\n",
    "\n",
    "data_cont_mmscaled = pd.DataFrame([])\n",
    "data_cont_mmscaled['sqft_liv_log'] = scaled_sqll\n",
    "data_cont_mmscaled['sqft_above_log'] = scaled_sqal\n",
    "data_cont_mmscaled['sqft_liv15_log'] = scaled_sq1v15\n",
    "\n",
    "data_cont_mmscaled.hist(figsize = [12, 12]);"
   ]
  },
  {
   "cell_type": "code",
   "execution_count": 226,
   "metadata": {},
   "outputs": [],
   "source": [
    "norm_df=pd.concat([ohe_df,data_cont_mmscaled], axis=1)"
   ]
  },
  {
   "cell_type": "code",
   "execution_count": 227,
   "metadata": {},
   "outputs": [
    {
     "data": {
      "text/html": [
       "<div>\n",
       "<style scoped>\n",
       "    .dataframe tbody tr th:only-of-type {\n",
       "        vertical-align: middle;\n",
       "    }\n",
       "\n",
       "    .dataframe tbody tr th {\n",
       "        vertical-align: top;\n",
       "    }\n",
       "\n",
       "    .dataframe thead th {\n",
       "        text-align: right;\n",
       "    }\n",
       "</style>\n",
       "<table border=\"1\" class=\"dataframe\">\n",
       "  <thead>\n",
       "    <tr style=\"text-align: right;\">\n",
       "      <th></th>\n",
       "      <th>id</th>\n",
       "      <th>date</th>\n",
       "      <th>price</th>\n",
       "      <th>sqft_living</th>\n",
       "      <th>sqft_lot</th>\n",
       "      <th>waterfront</th>\n",
       "      <th>view</th>\n",
       "      <th>condition</th>\n",
       "      <th>grade</th>\n",
       "      <th>sqft_above</th>\n",
       "      <th>...</th>\n",
       "      <th>bathrooms_8.0</th>\n",
       "      <th>floors_1.0</th>\n",
       "      <th>floors_1.5</th>\n",
       "      <th>floors_2.0</th>\n",
       "      <th>floors_2.5</th>\n",
       "      <th>floors_3.0</th>\n",
       "      <th>floors_3.5</th>\n",
       "      <th>sqft_liv_log</th>\n",
       "      <th>sqft_above_log</th>\n",
       "      <th>sqft_liv15_log</th>\n",
       "    </tr>\n",
       "  </thead>\n",
       "  <tbody>\n",
       "    <tr>\n",
       "      <th>0</th>\n",
       "      <td>7129300520</td>\n",
       "      <td>10/13/2014</td>\n",
       "      <td>221900.0</td>\n",
       "      <td>1180</td>\n",
       "      <td>5650</td>\n",
       "      <td>NaN</td>\n",
       "      <td>NONE</td>\n",
       "      <td>3</td>\n",
       "      <td>7.0</td>\n",
       "      <td>1180</td>\n",
       "      <td>...</td>\n",
       "      <td>0.0</td>\n",
       "      <td>1.0</td>\n",
       "      <td>0.0</td>\n",
       "      <td>0.0</td>\n",
       "      <td>0.0</td>\n",
       "      <td>0.0</td>\n",
       "      <td>0.0</td>\n",
       "      <td>0.322166</td>\n",
       "      <td>0.358392</td>\n",
       "      <td>0.441342</td>\n",
       "    </tr>\n",
       "    <tr>\n",
       "      <th>1</th>\n",
       "      <td>6414100192</td>\n",
       "      <td>12/9/2014</td>\n",
       "      <td>538000.0</td>\n",
       "      <td>2570</td>\n",
       "      <td>7242</td>\n",
       "      <td>NO</td>\n",
       "      <td>NONE</td>\n",
       "      <td>3</td>\n",
       "      <td>7.0</td>\n",
       "      <td>2170</td>\n",
       "      <td>...</td>\n",
       "      <td>0.0</td>\n",
       "      <td>0.0</td>\n",
       "      <td>0.0</td>\n",
       "      <td>1.0</td>\n",
       "      <td>0.0</td>\n",
       "      <td>0.0</td>\n",
       "      <td>0.0</td>\n",
       "      <td>0.538392</td>\n",
       "      <td>0.546652</td>\n",
       "      <td>0.525882</td>\n",
       "    </tr>\n",
       "    <tr>\n",
       "      <th>2</th>\n",
       "      <td>5631500400</td>\n",
       "      <td>2/25/2015</td>\n",
       "      <td>180000.0</td>\n",
       "      <td>770</td>\n",
       "      <td>10000</td>\n",
       "      <td>NO</td>\n",
       "      <td>NONE</td>\n",
       "      <td>3</td>\n",
       "      <td>6.0</td>\n",
       "      <td>770</td>\n",
       "      <td>...</td>\n",
       "      <td>0.0</td>\n",
       "      <td>1.0</td>\n",
       "      <td>0.0</td>\n",
       "      <td>0.0</td>\n",
       "      <td>0.0</td>\n",
       "      <td>0.0</td>\n",
       "      <td>0.0</td>\n",
       "      <td>0.203585</td>\n",
       "      <td>0.226478</td>\n",
       "      <td>0.699256</td>\n",
       "    </tr>\n",
       "    <tr>\n",
       "      <th>3</th>\n",
       "      <td>2487200875</td>\n",
       "      <td>12/9/2014</td>\n",
       "      <td>604000.0</td>\n",
       "      <td>1960</td>\n",
       "      <td>5000</td>\n",
       "      <td>NO</td>\n",
       "      <td>NONE</td>\n",
       "      <td>5</td>\n",
       "      <td>7.0</td>\n",
       "      <td>1050</td>\n",
       "      <td>...</td>\n",
       "      <td>0.0</td>\n",
       "      <td>1.0</td>\n",
       "      <td>0.0</td>\n",
       "      <td>0.0</td>\n",
       "      <td>0.0</td>\n",
       "      <td>0.0</td>\n",
       "      <td>0.0</td>\n",
       "      <td>0.463123</td>\n",
       "      <td>0.322322</td>\n",
       "      <td>0.446739</td>\n",
       "    </tr>\n",
       "    <tr>\n",
       "      <th>4</th>\n",
       "      <td>1954400510</td>\n",
       "      <td>2/18/2015</td>\n",
       "      <td>510000.0</td>\n",
       "      <td>1680</td>\n",
       "      <td>8080</td>\n",
       "      <td>NO</td>\n",
       "      <td>NONE</td>\n",
       "      <td>3</td>\n",
       "      <td>8.0</td>\n",
       "      <td>1680</td>\n",
       "      <td>...</td>\n",
       "      <td>0.0</td>\n",
       "      <td>1.0</td>\n",
       "      <td>0.0</td>\n",
       "      <td>0.0</td>\n",
       "      <td>0.0</td>\n",
       "      <td>0.0</td>\n",
       "      <td>0.0</td>\n",
       "      <td>0.420302</td>\n",
       "      <td>0.467563</td>\n",
       "      <td>0.548854</td>\n",
       "    </tr>\n",
       "    <tr>\n",
       "      <th>...</th>\n",
       "      <td>...</td>\n",
       "      <td>...</td>\n",
       "      <td>...</td>\n",
       "      <td>...</td>\n",
       "      <td>...</td>\n",
       "      <td>...</td>\n",
       "      <td>...</td>\n",
       "      <td>...</td>\n",
       "      <td>...</td>\n",
       "      <td>...</td>\n",
       "      <td>...</td>\n",
       "      <td>...</td>\n",
       "      <td>...</td>\n",
       "      <td>...</td>\n",
       "      <td>...</td>\n",
       "      <td>...</td>\n",
       "      <td>...</td>\n",
       "      <td>...</td>\n",
       "      <td>...</td>\n",
       "      <td>...</td>\n",
       "      <td>...</td>\n",
       "    </tr>\n",
       "    <tr>\n",
       "      <th>21592</th>\n",
       "      <td>263000018</td>\n",
       "      <td>5/21/2014</td>\n",
       "      <td>360000.0</td>\n",
       "      <td>1530</td>\n",
       "      <td>1131</td>\n",
       "      <td>NO</td>\n",
       "      <td>NONE</td>\n",
       "      <td>3</td>\n",
       "      <td>8.0</td>\n",
       "      <td>1530</td>\n",
       "      <td>...</td>\n",
       "      <td>0.0</td>\n",
       "      <td>0.0</td>\n",
       "      <td>0.0</td>\n",
       "      <td>0.0</td>\n",
       "      <td>0.0</td>\n",
       "      <td>1.0</td>\n",
       "      <td>0.0</td>\n",
       "      <td>0.394322</td>\n",
       "      <td>0.438662</td>\n",
       "      <td>0.489648</td>\n",
       "    </tr>\n",
       "    <tr>\n",
       "      <th>21593</th>\n",
       "      <td>6600060120</td>\n",
       "      <td>2/23/2015</td>\n",
       "      <td>400000.0</td>\n",
       "      <td>2310</td>\n",
       "      <td>5813</td>\n",
       "      <td>NO</td>\n",
       "      <td>NONE</td>\n",
       "      <td>3</td>\n",
       "      <td>8.0</td>\n",
       "      <td>2310</td>\n",
       "      <td>...</td>\n",
       "      <td>0.0</td>\n",
       "      <td>0.0</td>\n",
       "      <td>0.0</td>\n",
       "      <td>1.0</td>\n",
       "      <td>0.0</td>\n",
       "      <td>0.0</td>\n",
       "      <td>0.0</td>\n",
       "      <td>0.508764</td>\n",
       "      <td>0.565972</td>\n",
       "      <td>0.554876</td>\n",
       "    </tr>\n",
       "    <tr>\n",
       "      <th>21594</th>\n",
       "      <td>1523300141</td>\n",
       "      <td>6/23/2014</td>\n",
       "      <td>402101.0</td>\n",
       "      <td>1020</td>\n",
       "      <td>1350</td>\n",
       "      <td>NO</td>\n",
       "      <td>NONE</td>\n",
       "      <td>3</td>\n",
       "      <td>7.0</td>\n",
       "      <td>1020</td>\n",
       "      <td>...</td>\n",
       "      <td>0.0</td>\n",
       "      <td>0.0</td>\n",
       "      <td>0.0</td>\n",
       "      <td>1.0</td>\n",
       "      <td>0.0</td>\n",
       "      <td>0.0</td>\n",
       "      <td>0.0</td>\n",
       "      <td>0.281690</td>\n",
       "      <td>0.313364</td>\n",
       "      <td>0.341935</td>\n",
       "    </tr>\n",
       "    <tr>\n",
       "      <th>21595</th>\n",
       "      <td>291310100</td>\n",
       "      <td>1/16/2015</td>\n",
       "      <td>400000.0</td>\n",
       "      <td>1600</td>\n",
       "      <td>2388</td>\n",
       "      <td>NaN</td>\n",
       "      <td>NONE</td>\n",
       "      <td>3</td>\n",
       "      <td>8.0</td>\n",
       "      <td>1600</td>\n",
       "      <td>...</td>\n",
       "      <td>0.0</td>\n",
       "      <td>0.0</td>\n",
       "      <td>0.0</td>\n",
       "      <td>1.0</td>\n",
       "      <td>0.0</td>\n",
       "      <td>0.0</td>\n",
       "      <td>0.0</td>\n",
       "      <td>0.406749</td>\n",
       "      <td>0.452486</td>\n",
       "      <td>0.459892</td>\n",
       "    </tr>\n",
       "    <tr>\n",
       "      <th>21596</th>\n",
       "      <td>1523300157</td>\n",
       "      <td>10/15/2014</td>\n",
       "      <td>325000.0</td>\n",
       "      <td>1020</td>\n",
       "      <td>1076</td>\n",
       "      <td>NO</td>\n",
       "      <td>NONE</td>\n",
       "      <td>3</td>\n",
       "      <td>7.0</td>\n",
       "      <td>1020</td>\n",
       "      <td>...</td>\n",
       "      <td>0.0</td>\n",
       "      <td>0.0</td>\n",
       "      <td>0.0</td>\n",
       "      <td>1.0</td>\n",
       "      <td>0.0</td>\n",
       "      <td>0.0</td>\n",
       "      <td>0.0</td>\n",
       "      <td>0.281690</td>\n",
       "      <td>0.313364</td>\n",
       "      <td>0.341935</td>\n",
       "    </tr>\n",
       "  </tbody>\n",
       "</table>\n",
       "<p>21597 rows × 67 columns</p>\n",
       "</div>"
      ],
      "text/plain": [
       "               id        date     price  sqft_living  sqft_lot waterfront  \\\n",
       "0      7129300520  10/13/2014  221900.0         1180      5650        NaN   \n",
       "1      6414100192   12/9/2014  538000.0         2570      7242         NO   \n",
       "2      5631500400   2/25/2015  180000.0          770     10000         NO   \n",
       "3      2487200875   12/9/2014  604000.0         1960      5000         NO   \n",
       "4      1954400510   2/18/2015  510000.0         1680      8080         NO   \n",
       "...           ...         ...       ...          ...       ...        ...   \n",
       "21592   263000018   5/21/2014  360000.0         1530      1131         NO   \n",
       "21593  6600060120   2/23/2015  400000.0         2310      5813         NO   \n",
       "21594  1523300141   6/23/2014  402101.0         1020      1350         NO   \n",
       "21595   291310100   1/16/2015  400000.0         1600      2388        NaN   \n",
       "21596  1523300157  10/15/2014  325000.0         1020      1076         NO   \n",
       "\n",
       "       view  condition  grade  sqft_above  ...  bathrooms_8.0  floors_1.0  \\\n",
       "0      NONE          3    7.0        1180  ...            0.0         1.0   \n",
       "1      NONE          3    7.0        2170  ...            0.0         0.0   \n",
       "2      NONE          3    6.0         770  ...            0.0         1.0   \n",
       "3      NONE          5    7.0        1050  ...            0.0         1.0   \n",
       "4      NONE          3    8.0        1680  ...            0.0         1.0   \n",
       "...     ...        ...    ...         ...  ...            ...         ...   \n",
       "21592  NONE          3    8.0        1530  ...            0.0         0.0   \n",
       "21593  NONE          3    8.0        2310  ...            0.0         0.0   \n",
       "21594  NONE          3    7.0        1020  ...            0.0         0.0   \n",
       "21595  NONE          3    8.0        1600  ...            0.0         0.0   \n",
       "21596  NONE          3    7.0        1020  ...            0.0         0.0   \n",
       "\n",
       "       floors_1.5  floors_2.0  floors_2.5  floors_3.0  floors_3.5  \\\n",
       "0             0.0         0.0         0.0         0.0         0.0   \n",
       "1             0.0         1.0         0.0         0.0         0.0   \n",
       "2             0.0         0.0         0.0         0.0         0.0   \n",
       "3             0.0         0.0         0.0         0.0         0.0   \n",
       "4             0.0         0.0         0.0         0.0         0.0   \n",
       "...           ...         ...         ...         ...         ...   \n",
       "21592         0.0         0.0         0.0         1.0         0.0   \n",
       "21593         0.0         1.0         0.0         0.0         0.0   \n",
       "21594         0.0         1.0         0.0         0.0         0.0   \n",
       "21595         0.0         1.0         0.0         0.0         0.0   \n",
       "21596         0.0         1.0         0.0         0.0         0.0   \n",
       "\n",
       "       sqft_liv_log  sqft_above_log  sqft_liv15_log  \n",
       "0          0.322166        0.358392        0.441342  \n",
       "1          0.538392        0.546652        0.525882  \n",
       "2          0.203585        0.226478        0.699256  \n",
       "3          0.463123        0.322322        0.446739  \n",
       "4          0.420302        0.467563        0.548854  \n",
       "...             ...             ...             ...  \n",
       "21592      0.394322        0.438662        0.489648  \n",
       "21593      0.508764        0.565972        0.554876  \n",
       "21594      0.281690        0.313364        0.341935  \n",
       "21595      0.406749        0.452486        0.459892  \n",
       "21596      0.281690        0.313364        0.341935  \n",
       "\n",
       "[21597 rows x 67 columns]"
      ]
     },
     "execution_count": 227,
     "metadata": {},
     "output_type": "execute_result"
    }
   ],
   "source": [
    "norm_df"
   ]
  },
  {
   "cell_type": "markdown",
   "metadata": {},
   "source": [
    "At this point I can drop the columns that I transformed and scaled"
   ]
  },
  {
   "cell_type": "code",
   "execution_count": 232,
   "metadata": {},
   "outputs": [],
   "source": [
    "norm_df.drop(['sqft_living', 'sqft_above', 'sqft_living15'], axis=1, inplace=True)\n",
    "norm_df = norm_df.dropna() # I checked and the NA values are only 3, I'll get rid of them now or they will\n",
    "#Give me trouble with the fit"
   ]
  },
  {
   "cell_type": "markdown",
   "metadata": {},
   "source": [
    "### MinMax Scaler Linear Regression"
   ]
  },
  {
   "cell_type": "markdown",
   "metadata": {},
   "source": [
    "Let us try a linear regression with this scaling, and then I will do it again with the normal scaling and we can compare the results."
   ]
  },
  {
   "cell_type": "code",
   "execution_count": 233,
   "metadata": {},
   "outputs": [
    {
     "data": {
      "text/plain": [
       "LinearRegression()"
      ]
     },
     "execution_count": 233,
     "metadata": {},
     "output_type": "execute_result"
    }
   ],
   "source": [
    "y=norm_df['price']\n",
    "X=norm_df.drop(['price', 'date', 'view', 'waterfront', 'yr_renovated'], axis=1)\n",
    "\n",
    "linreg= LinearRegression()\n",
    "linreg.fit(X,y)"
   ]
  },
  {
   "cell_type": "code",
   "execution_count": 234,
   "metadata": {},
   "outputs": [
    {
     "name": "stdout",
     "output_type": "stream",
     "text": [
      " 0.6827516141996588\n"
     ]
    }
   ],
   "source": [
    "R2=metrics.r2_score(y,linreg.predict(X))\n",
    "print('', R2) #NOT TRANSFORMED AT ALL"
   ]
  },
  {
   "cell_type": "markdown",
   "metadata": {},
   "source": [
    "Now next things to do go back to your old project and find the way to color the code, and then try to normal scaling."
   ]
  },
  {
   "cell_type": "code",
   "execution_count": null,
   "metadata": {},
   "outputs": [],
   "source": []
  },
  {
   "cell_type": "code",
   "execution_count": null,
   "metadata": {},
   "outputs": [],
   "source": []
  },
  {
   "cell_type": "code",
   "execution_count": null,
   "metadata": {},
   "outputs": [],
   "source": []
  },
  {
   "cell_type": "code",
   "execution_count": null,
   "metadata": {},
   "outputs": [],
   "source": []
  },
  {
   "cell_type": "markdown",
   "metadata": {},
   "source": [
    "### Normalized Dataframe\n",
    "Not let us merge our original one-hot-encoded dataframe with the columns that we just normalized."
   ]
  },
  {
   "cell_type": "code",
   "execution_count": null,
   "metadata": {},
   "outputs": [],
   "source": [
    "norm_df=pd.concat([ohe_df, df_log], axis=1)"
   ]
  },
  {
   "cell_type": "code",
   "execution_count": null,
   "metadata": {},
   "outputs": [],
   "source": []
  },
  {
   "cell_type": "code",
   "execution_count": null,
   "metadata": {},
   "outputs": [],
   "source": [
    "Oooo, very nice! While we are here, it is worth mentioning that bathrooms are counted and categorized in quarters as such:\n",
    "\n",
    ".25 - Containing a sink, but not a toilet, shower, or bath\n",
    ".5 - Containing a sink and toilet, or a shower or bath\n",
    ".75 - Containing a sink and toilet, and a shower or bath\n",
    "1 - Containing a sink, a toilet, a shower, and bath\n",
    "Source: Illinado Home Solutions, LLC"
   ]
  },
  {
   "cell_type": "code",
   "execution_count": null,
   "metadata": {},
   "outputs": [],
   "source": [
    "#This is in scikit learn but I don't like it.\n",
    "from sklearn.preprocessing import LabelBinarizer\n",
    "bd_series=df['bedrooms']\n",
    "bd_grade = bd_series.astype('category')\n",
    "lb=LabelBinarizer()\n",
    "bd_encoded=lb.fit_transform(bd_grade)\n",
    "\n",
    "# You need to convert this back to a dataframe\n",
    "#new_bd_columns = ohe.get_feature_names(input_features=cat_columns)\n",
    "bd_dum_df = pd.DataFrame(bd_encoded,columns=(lb.classes_))\n",
    "bd_dum_df"
   ]
  },
  {
   "cell_type": "code",
   "execution_count": null,
   "metadata": {},
   "outputs": [],
   "source": []
  }
 ],
 "metadata": {
  "kernelspec": {
   "display_name": "Python 3",
   "language": "python",
   "name": "python3"
  },
  "language_info": {
   "codemirror_mode": {
    "name": "ipython",
    "version": 3
   },
   "file_extension": ".py",
   "mimetype": "text/x-python",
   "name": "python",
   "nbconvert_exporter": "python",
   "pygments_lexer": "ipython3",
   "version": "3.6.6"
  }
 },
 "nbformat": 4,
 "nbformat_minor": 2
}
